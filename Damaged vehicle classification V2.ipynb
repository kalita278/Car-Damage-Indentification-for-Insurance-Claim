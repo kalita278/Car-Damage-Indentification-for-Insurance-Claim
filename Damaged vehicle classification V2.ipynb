{
 "cells": [
  {
   "cell_type": "code",
   "execution_count": 1,
   "id": "1f411463",
   "metadata": {},
   "outputs": [
    {
     "name": "stderr",
     "output_type": "stream",
     "text": [
      "C:\\Anaconda\\lib\\site-packages\\scipy\\__init__.py:138: UserWarning: A NumPy version >=1.16.5 and <1.23.0 is required for this version of SciPy (detected version 1.23.1)\n",
      "  warnings.warn(f\"A NumPy version >={np_minversion} and <{np_maxversion} is required for this version of \"\n"
     ]
    }
   ],
   "source": [
    "import numpy as np\n",
    "import pandas as pd\n",
    "import matplotlib.pyplot as plt\n",
    "import seaborn as sns\n",
    "import PIL\n",
    "import cv2\n",
    "import tensorflow as tf\n",
    "import os\n",
    "%matplotlib inline"
   ]
  },
  {
   "cell_type": "markdown",
   "id": "7cb4edd0",
   "metadata": {},
   "source": [
    "### Loading and preprocessing the training data"
   ]
  },
  {
   "cell_type": "code",
   "execution_count": 2,
   "id": "f97e4623",
   "metadata": {},
   "outputs": [
    {
     "data": {
      "text/html": [
       "<div>\n",
       "<style scoped>\n",
       "    .dataframe tbody tr th:only-of-type {\n",
       "        vertical-align: middle;\n",
       "    }\n",
       "\n",
       "    .dataframe tbody tr th {\n",
       "        vertical-align: top;\n",
       "    }\n",
       "\n",
       "    .dataframe thead th {\n",
       "        text-align: right;\n",
       "    }\n",
       "</style>\n",
       "<table border=\"1\" class=\"dataframe\">\n",
       "  <thead>\n",
       "    <tr style=\"text-align: right;\">\n",
       "      <th></th>\n",
       "      <th>image_id</th>\n",
       "      <th>filename</th>\n",
       "      <th>label</th>\n",
       "      <th>image</th>\n",
       "    </tr>\n",
       "  </thead>\n",
       "  <tbody>\n",
       "    <tr>\n",
       "      <th>0</th>\n",
       "      <td>1</td>\n",
       "      <td>1.jpg</td>\n",
       "      <td>2</td>\n",
       "      <td>[[[252, 252, 252], [254, 254, 255], [246, 246,...</td>\n",
       "    </tr>\n",
       "    <tr>\n",
       "      <th>1</th>\n",
       "      <td>2</td>\n",
       "      <td>2.jpg</td>\n",
       "      <td>4</td>\n",
       "      <td>[[[4, 9, 154], [7, 12, 157], [4, 9, 154], [10,...</td>\n",
       "    </tr>\n",
       "    <tr>\n",
       "      <th>2</th>\n",
       "      <td>3</td>\n",
       "      <td>3.jpg</td>\n",
       "      <td>2</td>\n",
       "      <td>[[[230, 230, 229], [248, 248, 248], [204, 205,...</td>\n",
       "    </tr>\n",
       "    <tr>\n",
       "      <th>3</th>\n",
       "      <td>4</td>\n",
       "      <td>4.jpg</td>\n",
       "      <td>3</td>\n",
       "      <td>[[[49, 23, 26], [47, 14, 20], [63, 33, 38], [5...</td>\n",
       "    </tr>\n",
       "    <tr>\n",
       "      <th>4</th>\n",
       "      <td>5</td>\n",
       "      <td>5.jpg</td>\n",
       "      <td>5</td>\n",
       "      <td>[[[191, 223, 238], [194, 219, 235], [200, 218,...</td>\n",
       "    </tr>\n",
       "  </tbody>\n",
       "</table>\n",
       "</div>"
      ],
      "text/plain": [
       "  image_id filename label                                              image\n",
       "0        1    1.jpg     2  [[[252, 252, 252], [254, 254, 255], [246, 246,...\n",
       "1        2    2.jpg     4  [[[4, 9, 154], [7, 12, 157], [4, 9, 154], [10,...\n",
       "2        3    3.jpg     2  [[[230, 230, 229], [248, 248, 248], [204, 205,...\n",
       "3        4    4.jpg     3  [[[49, 23, 26], [47, 14, 20], [63, 33, 38], [5...\n",
       "4        5    5.jpg     5  [[[191, 223, 238], [194, 219, 235], [200, 218,..."
      ]
     },
     "execution_count": 2,
     "metadata": {},
     "output_type": "execute_result"
    }
   ],
   "source": [
    "# Define img_height, img_width\n",
    "img_height=224\n",
    "img_width=224\n",
    "\n",
    "#Loading the train.csv file and created and empty dataframe\n",
    "data = pd.read_csv(\"E:/Data Science/Damaged Vehicle Classification/train/train.csv\")\n",
    "df = pd.DataFrame(columns=['image_id','filename','label','image'])\n",
    "\n",
    "#Sorting the images\n",
    "file_path = \"E:/Data Science/Damaged Vehicle Classification/train/images\"\n",
    "sorted_image_list = list(os.listdir(file_path))\n",
    "sorted_image_list.sort(key=lambda f: int(''.join(filter(str.isdigit, f))))\n",
    "\n",
    "#Reading the pasting the images into the created dataframe\n",
    "for i, j in zip(sorted_image_list,range(len(os.listdir(file_path)))):\n",
    "    img = cv2.imread(os.path.join(file_path,i))\n",
    "    img = cv2.resize(img, (img_height, img_width))\n",
    "    df = df.append({'image_id':data['image_id'][j],'filename':data['filename'][j],'label':data['label'][j],'image':img},ignore_index=True)\n",
    "df.head()"
   ]
  },
  {
   "cell_type": "markdown",
   "id": "a7cc5a3c",
   "metadata": {},
   "source": [
    "### Loading and preprocessing the test data"
   ]
  },
  {
   "cell_type": "code",
   "execution_count": 3,
   "id": "47ef39ec",
   "metadata": {},
   "outputs": [
    {
     "data": {
      "text/html": [
       "<div>\n",
       "<style scoped>\n",
       "    .dataframe tbody tr th:only-of-type {\n",
       "        vertical-align: middle;\n",
       "    }\n",
       "\n",
       "    .dataframe tbody tr th {\n",
       "        vertical-align: top;\n",
       "    }\n",
       "\n",
       "    .dataframe thead th {\n",
       "        text-align: right;\n",
       "    }\n",
       "</style>\n",
       "<table border=\"1\" class=\"dataframe\">\n",
       "  <thead>\n",
       "    <tr style=\"text-align: right;\">\n",
       "      <th></th>\n",
       "      <th>image_id</th>\n",
       "      <th>filename</th>\n",
       "      <th>image</th>\n",
       "    </tr>\n",
       "  </thead>\n",
       "  <tbody>\n",
       "    <tr>\n",
       "      <th>0</th>\n",
       "      <td>7201</td>\n",
       "      <td>7201.jpg</td>\n",
       "      <td>[[[147, 151, 162], [134, 138, 149], [136, 140,...</td>\n",
       "    </tr>\n",
       "    <tr>\n",
       "      <th>1</th>\n",
       "      <td>7202</td>\n",
       "      <td>7202.jpg</td>\n",
       "      <td>[[[165, 153, 147], [155, 143, 137], [155, 143,...</td>\n",
       "    </tr>\n",
       "    <tr>\n",
       "      <th>2</th>\n",
       "      <td>7203</td>\n",
       "      <td>7203.jpg</td>\n",
       "      <td>[[[97, 109, 119], [93, 105, 115], [106, 121, 1...</td>\n",
       "    </tr>\n",
       "    <tr>\n",
       "      <th>3</th>\n",
       "      <td>7204</td>\n",
       "      <td>7204.jpg</td>\n",
       "      <td>[[[6, 4, 3], [10, 8, 7], [8, 6, 6], [9, 7, 7],...</td>\n",
       "    </tr>\n",
       "    <tr>\n",
       "      <th>4</th>\n",
       "      <td>7205</td>\n",
       "      <td>7205.jpg</td>\n",
       "      <td>[[[24, 40, 47], [27, 43, 50], [17, 33, 40], [3...</td>\n",
       "    </tr>\n",
       "  </tbody>\n",
       "</table>\n",
       "</div>"
      ],
      "text/plain": [
       "  image_id  filename                                              image\n",
       "0     7201  7201.jpg  [[[147, 151, 162], [134, 138, 149], [136, 140,...\n",
       "1     7202  7202.jpg  [[[165, 153, 147], [155, 143, 137], [155, 143,...\n",
       "2     7203  7203.jpg  [[[97, 109, 119], [93, 105, 115], [106, 121, 1...\n",
       "3     7204  7204.jpg  [[[6, 4, 3], [10, 8, 7], [8, 6, 6], [9, 7, 7],...\n",
       "4     7205  7205.jpg  [[[24, 40, 47], [27, 43, 50], [17, 33, 40], [3..."
      ]
     },
     "execution_count": 3,
     "metadata": {},
     "output_type": "execute_result"
    }
   ],
   "source": [
    "# Define img_height, img_width\n",
    "img_height=224\n",
    "img_width=224\n",
    "\n",
    "#Loading the train.csv file and created and empty dataframe\n",
    "data_test = pd.read_csv(\"E:/Data Science/Damaged Vehicle Classification/test/test.csv\")\n",
    "df_test = pd.DataFrame(columns=['image_id','filename','image'])\n",
    "\n",
    "#Sorting the images\n",
    "file_path_test = \"E:/Data Science/Damaged Vehicle Classification/test/images\"\n",
    "sorted_image_test_list = list(os.listdir(file_path_test))\n",
    "sorted_image_test_list.sort(key=lambda f: int(''.join(filter(str.isdigit, f))))\n",
    "\n",
    "#Reading the pasting the images into the created dataframe\n",
    "for i, j in zip(sorted_image_test_list,range(len(os.listdir(file_path_test)))):\n",
    "    img = cv2.imread(os.path.join(file_path_test,i))\n",
    "    img = cv2.resize(img, (img_height, img_width))\n",
    "    df_test = df_test.append({'image_id':data_test['image_id'][j],'filename':data_test['filename'][j],'image':img},ignore_index=True)\n",
    "df_test.head()"
   ]
  },
  {
   "cell_type": "code",
   "execution_count": 4,
   "id": "6a169037",
   "metadata": {},
   "outputs": [
    {
     "data": {
      "text/plain": [
       "<matplotlib.image.AxesImage at 0x2830336f3d0>"
      ]
     },
     "execution_count": 4,
     "metadata": {},
     "output_type": "execute_result"
    },
    {
     "data": {
      "image/png": "[encoded data removed]",
      "text/plain": [
       "<Figure size 432x288 with 2 Axes>"
      ]
     },
     "metadata": {
      "needs_background": "light"
     },
     "output_type": "display_data"
    }
   ],
   "source": [
    "#Visualizing some of the images\n",
    "plt.subplot(2,2,1)\n",
    "plt.imshow(df['image'][0])\n",
    "plt.subplot(2,2,2)\n",
    "plt.imshow(df['image'][7199])"
   ]
  },
  {
   "cell_type": "code",
   "execution_count": 5,
   "id": "b7b99337",
   "metadata": {},
   "outputs": [
    {
     "data": {
      "text/plain": [
       "<matplotlib.image.AxesImage at 0x28303431fa0>"
      ]
     },
     "execution_count": 5,
     "metadata": {},
     "output_type": "execute_result"
    },
    {
     "data": {
      "image/png": "[encoded data removed]",
      "text/plain": [
       "<Figure size 432x288 with 2 Axes>"
      ]
     },
     "metadata": {
      "needs_background": "light"
     },
     "output_type": "display_data"
    }
   ],
   "source": [
    "plt.subplot(2,2,1)\n",
    "plt.imshow(df['image'][78])\n",
    "plt.subplot(2,2,2)\n",
    "plt.imshow(df['image'][935])"
   ]
  },
  {
   "cell_type": "code",
   "execution_count": 6,
   "id": "4c99dcaf",
   "metadata": {},
   "outputs": [
    {
     "data": {
      "text/plain": [
       "<matplotlib.image.AxesImage at 0x283034b9b50>"
      ]
     },
     "execution_count": 6,
     "metadata": {},
     "output_type": "execute_result"
    },
    {
     "data": {
      "image/png": "[encoded data removed]",
      "text/plain": [
       "<Figure size 432x288 with 2 Axes>"
      ]
     },
     "metadata": {
      "needs_background": "light"
     },
     "output_type": "display_data"
    }
   ],
   "source": [
    "plt.subplot(2,2,1)\n",
    "plt.imshow(df['image'][2000])\n",
    "plt.subplot(2,2,2)\n",
    "plt.imshow(df['image'][4590])"
   ]
  },
  {
   "cell_type": "code",
   "execution_count": 7,
   "id": "928fb513",
   "metadata": {},
   "outputs": [
    {
     "name": "stdout",
     "output_type": "stream",
     "text": [
      "2    2349\n",
      "4    2079\n",
      "5    1185\n",
      "6     882\n",
      "3     534\n",
      "1     171\n",
      "Name: label, dtype: int64\n"
     ]
    },
    {
     "data": {
      "text/plain": [
       "<AxesSubplot:ylabel='label'>"
      ]
     },
     "execution_count": 7,
     "metadata": {},
     "output_type": "execute_result"
    },
    {
     "data": {
      "image/png": "[encoded data removed]",
      "text/plain": [
       "<Figure size 1440x576 with 1 Axes>"
      ]
     },
     "metadata": {},
     "output_type": "display_data"
    }
   ],
   "source": [
    "#Checking the distribution of target variable\n",
    "print(df['label'].value_counts())\n",
    "plt.figure(figsize=(20,8))\n",
    "df['label'].value_counts().plot(kind='pie',autopct='%.2f%%')"
   ]
  },
  {
   "cell_type": "markdown",
   "id": "0def3466",
   "metadata": {},
   "source": [
    "The dataset is unbalanced as only 2.37% and 7.42% of the images are of class 1 and 3."
   ]
  },
  {
   "cell_type": "code",
   "execution_count": 8,
   "id": "43b2df6f",
   "metadata": {},
   "outputs": [
    {
     "name": "stdout",
     "output_type": "stream",
     "text": [
      "(7200,)\n"
     ]
    }
   ],
   "source": [
    "# Creating X_train and y_train\n",
    "\n",
    "x = df['image']\n",
    "\n",
    "print(x.shape)"
   ]
  },
  {
   "cell_type": "code",
   "execution_count": 9,
   "id": "2738d997",
   "metadata": {},
   "outputs": [
    {
     "data": {
      "text/plain": [
       "(7200, 224, 224, 3)"
      ]
     },
     "execution_count": 9,
     "metadata": {},
     "output_type": "execute_result"
    }
   ],
   "source": [
    "# Reshaping x suitable for the model\n",
    "\n",
    "x_train = []\n",
    "\n",
    "for i, j in enumerate(x):\n",
    "    x_train.append(j)\n",
    "\n",
    "x_train= np.array(x_train, np.float32) / 255. # Converting the train data to an array and then normalizing it\n",
    "x_train.shape"
   ]
  },
  {
   "cell_type": "code",
   "execution_count": 10,
   "id": "947e90dd",
   "metadata": {},
   "outputs": [
    {
     "data": {
      "text/plain": [
       "(7200, 6)"
      ]
     },
     "execution_count": 10,
     "metadata": {},
     "output_type": "execute_result"
    }
   ],
   "source": [
    "# Converting encoded 'breed' feature to categorical columns\n",
    "\n",
    "y = df['label']\n",
    "\n",
    "#y_train = tf.keras.utils.to_categorical(y, num_classes=None, dtype='int')\n",
    "y_train = np.array(pd.get_dummies(y))\n",
    "y_train.shape"
   ]
  },
  {
   "cell_type": "code",
   "execution_count": 11,
   "id": "f35d6e5c",
   "metadata": {},
   "outputs": [
    {
     "data": {
      "text/plain": [
       "(4800, 224, 224, 3)"
      ]
     },
     "execution_count": 11,
     "metadata": {},
     "output_type": "execute_result"
    }
   ],
   "source": [
    "# Reshaping x_test suitable for the model\n",
    "\n",
    "x_test_data = df_test['image']\n",
    "x_test = []\n",
    "\n",
    "for i, j in enumerate(x_test_data):\n",
    "    x_test.append(j)\n",
    "\n",
    "x_test= np.array(x_test, np.float32) / 255. # Converting the train data to an array and then normalizing it\n",
    "x_test.shape"
   ]
  },
  {
   "cell_type": "markdown",
   "id": "7e747fbe",
   "metadata": {},
   "source": [
    "### Model Building and Training"
   ]
  },
  {
   "cell_type": "markdown",
   "id": "1961d5a3",
   "metadata": {},
   "source": [
    "### Model1"
   ]
  },
  {
   "cell_type": "code",
   "execution_count": 12,
   "id": "67a5e3d9",
   "metadata": {},
   "outputs": [],
   "source": [
    "from tensorflow.keras import backend\n",
    "backend.clear_session()\n",
    "#Fixing the seed for random number generators so that we can ensure we receive the same output everytime\n",
    "np.random.seed(47)\n",
    "import random\n",
    "random.seed(47)\n",
    "tf.random.set_seed(47)"
   ]
  },
  {
   "cell_type": "code",
   "execution_count": 13,
   "id": "12980f7b",
   "metadata": {},
   "outputs": [
    {
     "name": "stdout",
     "output_type": "stream",
     "text": [
      "WARNING:tensorflow:`input_shape` is undefined or non-square, or `rows` is not in [128, 160, 192, 224]. Weights for input shape (224, 224) will be loaded as the default.\n",
      "Model: \"model\"\n",
      "_________________________________________________________________\n",
      " Layer (type)                Output Shape              Param #   \n",
      "=================================================================\n",
      " input_1 (InputLayer)        [(None, 32, 32, 3)]       0         \n",
      "                                                                 \n",
      " conv1 (Conv2D)              (None, 16, 16, 32)        864       \n",
      "                                                                 \n",
      " conv1_bn (BatchNormalizati  (None, 16, 16, 32)        128       \n",
      " on)                                                             \n",
      "                                                                 \n",
      " conv1_relu (ReLU)           (None, 16, 16, 32)        0         \n",
      "                                                                 \n",
      " conv_dw_1 (DepthwiseConv2D  (None, 16, 16, 32)        288       \n",
      " )                                                               \n",
      "                                                                 \n",
      " conv_dw_1_bn (BatchNormali  (None, 16, 16, 32)        128       \n",
      " zation)                                                         \n",
      "                                                                 \n",
      " conv_dw_1_relu (ReLU)       (None, 16, 16, 32)        0         \n",
      "                                                                 \n",
      " conv_pw_1 (Conv2D)          (None, 16, 16, 64)        2048      \n",
      "                                                                 \n",
      " conv_pw_1_bn (BatchNormali  (None, 16, 16, 64)        256       \n",
      " zation)                                                         \n",
      "                                                                 \n",
      " conv_pw_1_relu (ReLU)       (None, 16, 16, 64)        0         \n",
      "                                                                 \n",
      " conv_pad_2 (ZeroPadding2D)  (None, 17, 17, 64)        0         \n",
      "                                                                 \n",
      " conv_dw_2 (DepthwiseConv2D  (None, 8, 8, 64)          576       \n",
      " )                                                               \n",
      "                                                                 \n",
      " conv_dw_2_bn (BatchNormali  (None, 8, 8, 64)          256       \n",
      " zation)                                                         \n",
      "                                                                 \n",
      " conv_dw_2_relu (ReLU)       (None, 8, 8, 64)          0         \n",
      "                                                                 \n",
      " conv_pw_2 (Conv2D)          (None, 8, 8, 128)         8192      \n",
      "                                                                 \n",
      " conv_pw_2_bn (BatchNormali  (None, 8, 8, 128)         512       \n",
      " zation)                                                         \n",
      "                                                                 \n",
      " conv_pw_2_relu (ReLU)       (None, 8, 8, 128)         0         \n",
      "                                                                 \n",
      " conv_dw_3 (DepthwiseConv2D  (None, 8, 8, 128)         1152      \n",
      " )                                                               \n",
      "                                                                 \n",
      " conv_dw_3_bn (BatchNormali  (None, 8, 8, 128)         512       \n",
      " zation)                                                         \n",
      "                                                                 \n",
      " conv_dw_3_relu (ReLU)       (None, 8, 8, 128)         0         \n",
      "                                                                 \n",
      " conv_pw_3 (Conv2D)          (None, 8, 8, 128)         16384     \n",
      "                                                                 \n",
      " conv_pw_3_bn (BatchNormali  (None, 8, 8, 128)         512       \n",
      " zation)                                                         \n",
      "                                                                 \n",
      " conv_pw_3_relu (ReLU)       (None, 8, 8, 128)         0         \n",
      "                                                                 \n",
      " conv_pad_4 (ZeroPadding2D)  (None, 9, 9, 128)         0         \n",
      "                                                                 \n",
      " conv_dw_4 (DepthwiseConv2D  (None, 4, 4, 128)         1152      \n",
      " )                                                               \n",
      "                                                                 \n",
      " conv_dw_4_bn (BatchNormali  (None, 4, 4, 128)         512       \n",
      " zation)                                                         \n",
      "                                                                 \n",
      " conv_dw_4_relu (ReLU)       (None, 4, 4, 128)         0         \n",
      "                                                                 \n",
      " conv_pw_4 (Conv2D)          (None, 4, 4, 256)         32768     \n",
      "                                                                 \n",
      " conv_pw_4_bn (BatchNormali  (None, 4, 4, 256)         1024      \n",
      " zation)                                                         \n",
      "                                                                 \n",
      " conv_pw_4_relu (ReLU)       (None, 4, 4, 256)         0         \n",
      "                                                                 \n",
      " conv_dw_5 (DepthwiseConv2D  (None, 4, 4, 256)         2304      \n",
      " )                                                               \n",
      "                                                                 \n",
      " conv_dw_5_bn (BatchNormali  (None, 4, 4, 256)         1024      \n",
      " zation)                                                         \n",
      "                                                                 \n",
      " conv_dw_5_relu (ReLU)       (None, 4, 4, 256)         0         \n",
      "                                                                 \n",
      " conv_pw_5 (Conv2D)          (None, 4, 4, 256)         65536     \n",
      "                                                                 \n",
      " conv_pw_5_bn (BatchNormali  (None, 4, 4, 256)         1024      \n",
      " zation)                                                         \n",
      "                                                                 \n",
      " conv_pw_5_relu (ReLU)       (None, 4, 4, 256)         0         \n",
      "                                                                 \n",
      " conv_pad_6 (ZeroPadding2D)  (None, 5, 5, 256)         0         \n",
      "                                                                 \n",
      " conv_dw_6 (DepthwiseConv2D  (None, 2, 2, 256)         2304      \n",
      " )                                                               \n",
      "                                                                 \n",
      " conv_dw_6_bn (BatchNormali  (None, 2, 2, 256)         1024      \n",
      " zation)                                                         \n",
      "                                                                 \n",
      " conv_dw_6_relu (ReLU)       (None, 2, 2, 256)         0         \n",
      "                                                                 \n",
      " conv_pw_6 (Conv2D)          (None, 2, 2, 512)         131072    \n",
      "                                                                 \n",
      " conv_pw_6_bn (BatchNormali  (None, 2, 2, 512)         2048      \n",
      " zation)                                                         \n",
      "                                                                 \n",
      " conv_pw_6_relu (ReLU)       (None, 2, 2, 512)         0         \n",
      "                                                                 \n",
      " conv_dw_7 (DepthwiseConv2D  (None, 2, 2, 512)         4608      \n",
      " )                                                               \n",
      "                                                                 \n",
      " conv_dw_7_bn (BatchNormali  (None, 2, 2, 512)         2048      \n",
      " zation)                                                         \n",
      "                                                                 \n",
      " conv_dw_7_relu (ReLU)       (None, 2, 2, 512)         0         \n",
      "                                                                 \n",
      " conv_pw_7 (Conv2D)          (None, 2, 2, 512)         262144    \n",
      "                                                                 \n",
      " conv_pw_7_bn (BatchNormali  (None, 2, 2, 512)         2048      \n",
      " zation)                                                         \n",
      "                                                                 \n",
      " conv_pw_7_relu (ReLU)       (None, 2, 2, 512)         0         \n"
     ]
    },
    {
     "name": "stdout",
     "output_type": "stream",
     "text": [
      "                                                                 \n",
      " conv_dw_8 (DepthwiseConv2D  (None, 2, 2, 512)         4608      \n",
      " )                                                               \n",
      "                                                                 \n",
      " conv_dw_8_bn (BatchNormali  (None, 2, 2, 512)         2048      \n",
      " zation)                                                         \n",
      "                                                                 \n",
      " conv_dw_8_relu (ReLU)       (None, 2, 2, 512)         0         \n",
      "                                                                 \n",
      " conv_pw_8 (Conv2D)          (None, 2, 2, 512)         262144    \n",
      "                                                                 \n",
      " conv_pw_8_bn (BatchNormali  (None, 2, 2, 512)         2048      \n",
      " zation)                                                         \n",
      "                                                                 \n",
      " conv_pw_8_relu (ReLU)       (None, 2, 2, 512)         0         \n",
      "                                                                 \n",
      " conv_dw_9 (DepthwiseConv2D  (None, 2, 2, 512)         4608      \n",
      " )                                                               \n",
      "                                                                 \n",
      " conv_dw_9_bn (BatchNormali  (None, 2, 2, 512)         2048      \n",
      " zation)                                                         \n",
      "                                                                 \n",
      " conv_dw_9_relu (ReLU)       (None, 2, 2, 512)         0         \n",
      "                                                                 \n",
      " conv_pw_9 (Conv2D)          (None, 2, 2, 512)         262144    \n",
      "                                                                 \n",
      " conv_pw_9_bn (BatchNormali  (None, 2, 2, 512)         2048      \n",
      " zation)                                                         \n",
      "                                                                 \n",
      " conv_pw_9_relu (ReLU)       (None, 2, 2, 512)         0         \n",
      "                                                                 \n",
      " conv_dw_10 (DepthwiseConv2  (None, 2, 2, 512)         4608      \n",
      " D)                                                              \n",
      "                                                                 \n",
      " conv_dw_10_bn (BatchNormal  (None, 2, 2, 512)         2048      \n",
      " ization)                                                        \n",
      "                                                                 \n",
      " conv_dw_10_relu (ReLU)      (None, 2, 2, 512)         0         \n",
      "                                                                 \n",
      " conv_pw_10 (Conv2D)         (None, 2, 2, 512)         262144    \n",
      "                                                                 \n",
      " conv_pw_10_bn (BatchNormal  (None, 2, 2, 512)         2048      \n",
      " ization)                                                        \n",
      "                                                                 \n",
      " conv_pw_10_relu (ReLU)      (None, 2, 2, 512)         0         \n",
      "                                                                 \n",
      " conv_dw_11 (DepthwiseConv2  (None, 2, 2, 512)         4608      \n",
      " D)                                                              \n",
      "                                                                 \n",
      " conv_dw_11_bn (BatchNormal  (None, 2, 2, 512)         2048      \n",
      " ization)                                                        \n",
      "                                                                 \n",
      " conv_dw_11_relu (ReLU)      (None, 2, 2, 512)         0         \n",
      "                                                                 \n",
      " conv_pw_11 (Conv2D)         (None, 2, 2, 512)         262144    \n",
      "                                                                 \n",
      " conv_pw_11_bn (BatchNormal  (None, 2, 2, 512)         2048      \n",
      " ization)                                                        \n",
      "                                                                 \n",
      " conv_pw_11_relu (ReLU)      (None, 2, 2, 512)         0         \n",
      "                                                                 \n",
      " conv_pad_12 (ZeroPadding2D  (None, 3, 3, 512)         0         \n",
      " )                                                               \n",
      "                                                                 \n",
      " conv_dw_12 (DepthwiseConv2  (None, 1, 1, 512)         4608      \n",
      " D)                                                              \n",
      "                                                                 \n",
      " conv_dw_12_bn (BatchNormal  (None, 1, 1, 512)         2048      \n",
      " ization)                                                        \n",
      "                                                                 \n",
      " conv_dw_12_relu (ReLU)      (None, 1, 1, 512)         0         \n",
      "                                                                 \n",
      " conv_pw_12 (Conv2D)         (None, 1, 1, 1024)        524288    \n",
      "                                                                 \n",
      " conv_pw_12_bn (BatchNormal  (None, 1, 1, 1024)        4096      \n",
      " ization)                                                        \n",
      "                                                                 \n",
      " conv_pw_12_relu (ReLU)      (None, 1, 1, 1024)        0         \n",
      "                                                                 \n",
      " conv_dw_13 (DepthwiseConv2  (None, 1, 1, 1024)        9216      \n",
      " D)                                                              \n",
      "                                                                 \n",
      " conv_dw_13_bn (BatchNormal  (None, 1, 1, 1024)        4096      \n",
      " ization)                                                        \n",
      "                                                                 \n",
      " conv_dw_13_relu (ReLU)      (None, 1, 1, 1024)        0         \n",
      "                                                                 \n",
      " conv_pw_13 (Conv2D)         (None, 1, 1, 1024)        1048576   \n",
      "                                                                 \n",
      " conv_pw_13_bn (BatchNormal  (None, 1, 1, 1024)        4096      \n",
      " ization)                                                        \n",
      "                                                                 \n",
      " conv_pw_13_relu (ReLU)      (None, 1, 1, 1024)        0         \n",
      "                                                                 \n",
      " global_average_pooling2d (  (None, 1024)              0         \n",
      " GlobalAveragePooling2D)                                         \n",
      "                                                                 \n",
      " dense (Dense)               (None, 512)               524800    \n",
      "                                                                 \n",
      " dropout (Dropout)           (None, 512)               0         \n",
      "                                                                 \n",
      " dense_1 (Dense)             (None, 256)               131328    \n",
      "                                                                 \n",
      " dropout_1 (Dropout)         (None, 256)               0         \n",
      "                                                                 \n",
      " dense_2 (Dense)             (None, 64)                16448     \n",
      "                                                                 \n",
      " dense_3 (Dense)             (None, 6)                 390       \n",
      "                                                                 \n",
      "=================================================================\n",
      "Total params: 3901830 (14.88 MB)\n",
      "Trainable params: 3865926 (14.75 MB)\n",
      "Non-trainable params: 35904 (140.25 KB)\n",
      "_________________________________________________________________\n"
     ]
    }
   ],
   "source": [
    "from tensorflow.keras.applications import MobileNet\n",
    "from tensorflow.keras.layers import Dense, GlobalAveragePooling2D, Dropout\n",
    "from tensorflow.keras.models import Model\n",
    "\n",
    "base_model = MobileNet(input_shape=x_train[0].shape,\n",
    "                       weights='imagenet',\n",
    "                       include_top=False) #imports the mobilenet model and discards the last 1000 neuron layer.\n",
    "\n",
    "x = base_model.output\n",
    "x = GlobalAveragePooling2D()(x) # Optional\n",
    "x = Dense(512,activation='relu')(x) #we add dense layers so that the model can learn more complex functions and classify for better results.\n",
    "x = Dropout(0.4)(x)\n",
    "x = Dense(256,activation='relu')(x) #dense layer 2\n",
    "x = Dropout(0.3)(x)\n",
    "x = Dense(64,activation='relu')(x) #dense layer 3\n",
    "preds = Dense(6,activation='softmax')(x) #final layer with softmax activation\n",
    "\n",
    "model_mobilenet = Model(inputs=base_model.input,\n",
    "                        outputs=preds)\n",
    "\n",
    "# set the first 20 layers of the network to be non-trainable\n",
    "for layer in model_mobilenet.layers[:20]:\n",
    "    layer.trainable=False\n",
    "for layer in model_mobilenet.layers[20:]:\n",
    "    layer.trainable=True\n",
    "\n",
    "# Compile the model\n",
    "model_mobilenet.compile(optimizer='Adam',\n",
    "                      loss='categorical_crossentropy',\n",
    "                      metrics=['accuracy'])\n",
    "\n",
    "model_mobilenet.summary()"
   ]
  },
  {
   "cell_type": "code",
   "execution_count": 14,
   "id": "1828f25f",
   "metadata": {},
   "outputs": [],
   "source": [
    "from tensorflow.keras.callbacks import ModelCheckpoint, EarlyStopping, ReduceLROnPlateau\n",
    "\n",
    "checkpoint = ModelCheckpoint(\"model-{val_loss:.2f}.h5\", monitor=\"val_loss\", verbose=1,mode='min', save_best_only=True, save_weights_only=True)\n",
    "\n",
    "stop = EarlyStopping(monitor=\"val_loss\", patience=6, mode='min')\n",
    "\n",
    "reduce_lr = ReduceLROnPlateau(monitor=\"val_loss\", factor=0.2, patience=4, min_lr=1e-6, verbose=1, mode='min')"
   ]
  },
  {
   "cell_type": "code",
   "execution_count": null,
   "id": "3f57a7d0",
   "metadata": {},
   "outputs": [
    {
     "name": "stdout",
     "output_type": "stream",
     "text": [
      "Epoch 1/30\n",
      "180/180 [==============================] - ETA: 0s - loss: 1.5159 - accuracy: 0.4002\n",
      "Epoch 1: val_loss improved from inf to 1.47907, saving model to model-1.48.h5\n",
      "180/180 [==============================] - 80s 362ms/step - loss: 1.5159 - accuracy: 0.4002 - val_loss: 1.4791 - val_accuracy: 0.4313 - lr: 0.0010\n",
      "Epoch 2/30\n",
      "180/180 [==============================] - ETA: 0s - loss: 1.1446 - accuracy: 0.5410\n",
      "Epoch 2: val_loss improved from 1.47907 to 1.05593, saving model to model-1.06.h5\n",
      "180/180 [==============================] - 62s 347ms/step - loss: 1.1446 - accuracy: 0.5410 - val_loss: 1.0559 - val_accuracy: 0.5514 - lr: 0.0010\n",
      "Epoch 3/30\n",
      "180/180 [==============================] - ETA: 0s - loss: 0.9318 - accuracy: 0.6538\n",
      "Epoch 3: val_loss improved from 1.05593 to 1.05505, saving model to model-1.06.h5\n",
      "180/180 [==============================] - 64s 354ms/step - loss: 0.9318 - accuracy: 0.6538 - val_loss: 1.0550 - val_accuracy: 0.5597 - lr: 0.0010\n",
      "Epoch 4/30\n",
      "180/180 [==============================] - ETA: 0s - loss: 0.8164 - accuracy: 0.7042\n",
      "Epoch 4: val_loss improved from 1.05505 to 0.92067, saving model to model-0.92.h5\n",
      "180/180 [==============================] - 62s 346ms/step - loss: 0.8164 - accuracy: 0.7042 - val_loss: 0.9207 - val_accuracy: 0.6549 - lr: 0.0010\n",
      "Epoch 5/30\n",
      "180/180 [==============================] - ETA: 0s - loss: 0.6896 - accuracy: 0.7566\n",
      "Epoch 5: val_loss improved from 0.92067 to 0.86232, saving model to model-0.86.h5\n",
      "180/180 [==============================] - 62s 345ms/step - loss: 0.6896 - accuracy: 0.7566 - val_loss: 0.8623 - val_accuracy: 0.6840 - lr: 0.0010\n",
      "Epoch 6/30\n",
      "180/180 [==============================] - ETA: 0s - loss: 0.6402 - accuracy: 0.7785\n",
      "Epoch 6: val_loss did not improve from 0.86232\n",
      "180/180 [==============================] - 61s 341ms/step - loss: 0.6402 - accuracy: 0.7785 - val_loss: 0.8821 - val_accuracy: 0.6986 - lr: 0.0010\n",
      "Epoch 7/30\n",
      "180/180 [==============================] - ETA: 0s - loss: 0.5678 - accuracy: 0.8059\n",
      "Epoch 7: val_loss improved from 0.86232 to 0.79470, saving model to model-0.79.h5\n",
      "180/180 [==============================] - 61s 341ms/step - loss: 0.5678 - accuracy: 0.8059 - val_loss: 0.7947 - val_accuracy: 0.7326 - lr: 0.0010\n",
      "Epoch 8/30\n",
      "180/180 [==============================] - ETA: 0s - loss: 0.5291 - accuracy: 0.8222\n",
      "Epoch 8: val_loss improved from 0.79470 to 0.70516, saving model to model-0.71.h5\n",
      "180/180 [==============================] - 61s 340ms/step - loss: 0.5291 - accuracy: 0.8222 - val_loss: 0.7052 - val_accuracy: 0.7437 - lr: 0.0010\n",
      "Epoch 9/30\n",
      "180/180 [==============================] - ETA: 0s - loss: 0.4910 - accuracy: 0.8408\n",
      "Epoch 9: val_loss did not improve from 0.70516\n",
      "180/180 [==============================] - 63s 351ms/step - loss: 0.4910 - accuracy: 0.8408 - val_loss: 0.9051 - val_accuracy: 0.7139 - lr: 0.0010\n",
      "Epoch 10/30\n",
      "180/180 [==============================] - ETA: 0s - loss: 0.4350 - accuracy: 0.8566\n",
      "Epoch 10: val_loss improved from 0.70516 to 0.68595, saving model to model-0.69.h5\n",
      "180/180 [==============================] - 65s 362ms/step - loss: 0.4350 - accuracy: 0.8566 - val_loss: 0.6859 - val_accuracy: 0.7806 - lr: 0.0010\n",
      "Epoch 11/30\n",
      "180/180 [==============================] - ETA: 0s - loss: 0.4102 - accuracy: 0.8675\n",
      "Epoch 11: val_loss did not improve from 0.68595\n",
      "180/180 [==============================] - 57s 319ms/step - loss: 0.4102 - accuracy: 0.8675 - val_loss: 0.7024 - val_accuracy: 0.7715 - lr: 0.0010\n",
      "Epoch 12/30\n",
      "180/180 [==============================] - ETA: 0s - loss: 0.3920 - accuracy: 0.8825\n",
      "Epoch 12: val_loss did not improve from 0.68595\n",
      "180/180 [==============================] - 62s 345ms/step - loss: 0.3920 - accuracy: 0.8825 - val_loss: 0.9174 - val_accuracy: 0.7236 - lr: 0.0010\n",
      "Epoch 13/30\n",
      "180/180 [==============================] - ETA: 0s - loss: 0.3342 - accuracy: 0.8964\n",
      "Epoch 13: val_loss did not improve from 0.68595\n",
      "180/180 [==============================] - 62s 345ms/step - loss: 0.3342 - accuracy: 0.8964 - val_loss: 0.6978 - val_accuracy: 0.7708 - lr: 0.0010\n",
      "Epoch 14/30\n",
      "180/180 [==============================] - ETA: 0s - loss: 0.2919 - accuracy: 0.9111\n",
      "Epoch 14: val_loss improved from 0.68595 to 0.66662, saving model to model-0.67.h5\n",
      "180/180 [==============================] - 62s 345ms/step - loss: 0.2919 - accuracy: 0.9111 - val_loss: 0.6666 - val_accuracy: 0.8000 - lr: 0.0010\n",
      "Epoch 15/30\n",
      "180/180 [==============================] - ETA: 0s - loss: 0.2781 - accuracy: 0.9148\n",
      "Epoch 15: val_loss did not improve from 0.66662\n",
      "180/180 [==============================] - 63s 351ms/step - loss: 0.2781 - accuracy: 0.9148 - val_loss: 0.7019 - val_accuracy: 0.8035 - lr: 0.0010\n",
      "Epoch 16/30\n",
      "180/180 [==============================] - ETA: 0s - loss: 0.2786 - accuracy: 0.9132\n",
      "Epoch 16: val_loss did not improve from 0.66662\n",
      "180/180 [==============================] - 65s 360ms/step - loss: 0.2786 - accuracy: 0.9132 - val_loss: 0.8392 - val_accuracy: 0.7535 - lr: 0.0010\n",
      "Epoch 17/30\n",
      "180/180 [==============================] - ETA: 0s - loss: 0.2275 - accuracy: 0.9312\n",
      "Epoch 17: val_loss did not improve from 0.66662\n",
      "180/180 [==============================] - 63s 353ms/step - loss: 0.2275 - accuracy: 0.9312 - val_loss: 0.7422 - val_accuracy: 0.7847 - lr: 0.0010\n",
      "Epoch 18/30\n",
      "180/180 [==============================] - ETA: 0s - loss: 0.2305 - accuracy: 0.9326\n",
      "Epoch 18: val_loss did not improve from 0.66662\n",
      "\n",
      "Epoch 18: ReduceLROnPlateau reducing learning rate to 0.00020000000949949026.\n",
      "180/180 [==============================] - 64s 353ms/step - loss: 0.2305 - accuracy: 0.9326 - val_loss: 0.9706 - val_accuracy: 0.7681 - lr: 0.0010\n",
      "Epoch 19/30\n",
      "180/180 [==============================] - ETA: 0s - loss: 0.1313 - accuracy: 0.9623\n",
      "Epoch 19: val_loss improved from 0.66662 to 0.51561, saving model to model-0.52.h5\n",
      "180/180 [==============================] - 64s 354ms/step - loss: 0.1313 - accuracy: 0.9623 - val_loss: 0.5156 - val_accuracy: 0.8521 - lr: 2.0000e-04\n",
      "Epoch 20/30\n",
      "180/180 [==============================] - ETA: 0s - loss: 0.0607 - accuracy: 0.9842\n",
      "Epoch 20: val_loss did not improve from 0.51561\n",
      "180/180 [==============================] - 67s 374ms/step - loss: 0.0607 - accuracy: 0.9842 - val_loss: 0.5715 - val_accuracy: 0.8569 - lr: 2.0000e-04\n",
      "Epoch 21/30\n",
      "180/180 [==============================] - ETA: 0s - loss: 0.0379 - accuracy: 0.9896\n",
      "Epoch 21: val_loss did not improve from 0.51561\n",
      "180/180 [==============================] - 63s 349ms/step - loss: 0.0379 - accuracy: 0.9896 - val_loss: 0.6108 - val_accuracy: 0.8604 - lr: 2.0000e-04\n",
      "Epoch 22/30\n",
      "180/180 [==============================] - ETA: 0s - loss: 0.0439 - accuracy: 0.9856\n",
      "Epoch 22: val_loss did not improve from 0.51561\n",
      "180/180 [==============================] - 63s 348ms/step - loss: 0.0439 - accuracy: 0.9856 - val_loss: 0.6487 - val_accuracy: 0.8611 - lr: 2.0000e-04\n",
      "Epoch 23/30\n",
      "180/180 [==============================] - ETA: 0s - loss: 0.0434 - accuracy: 0.9878\n",
      "Epoch 23: val_loss did not improve from 0.51561\n",
      "\n",
      "Epoch 23: ReduceLROnPlateau reducing learning rate to 4.0000001899898055e-05.\n",
      "180/180 [==============================] - 63s 350ms/step - loss: 0.0434 - accuracy: 0.9878 - val_loss: 0.6574 - val_accuracy: 0.8583 - lr: 2.0000e-04\n",
      "Epoch 24/30\n",
      "134/180 [=====================>........] - ETA: 15s - loss: 0.0385 - accuracy: 0.9904"
     ]
    }
   ],
   "source": [
    "history1 = model_mobilenet.fit(x=x_train, \n",
    "                                  y=y_train, \n",
    "                                  batch_size=32, \n",
    "                                  epochs=30, \n",
    "                                  validation_split=0.2,verbose=1, callbacks=[checkpoint,reduce_lr,stop])"
   ]
  },
  {
   "cell_type": "code",
   "execution_count": null,
   "id": "6ff047d1",
   "metadata": {},
   "outputs": [],
   "source": [
    "## Accuracy and Loss plots\n",
    "\n",
    "accuracy = history1.history['accuracy']\n",
    "val_accuracy = history1.history['val_accuracy']\n",
    "loss = history1.history['loss']\n",
    "val_loss = history1.history['val_loss']\n",
    "\n",
    "epochs   = range(len(accuracy)) # Get number of epochs\n",
    "\n",
    "plt.plot  (epochs, accuracy, label = 'training accuracy')\n",
    "plt.plot  (epochs, val_accuracy, label = 'validation accuracy')\n",
    "plt.title ('Training and validation accuracy')\n",
    "plt.legend(loc = 'lower right')\n",
    "plt.figure()\n",
    "\n",
    "plt.plot  (epochs, loss, label = 'training loss')\n",
    "plt.plot  (epochs, val_loss, label = 'validation loss')\n",
    "plt.legend(loc = 'upper right')\n",
    "plt.title ('Training and validation loss')"
   ]
  },
  {
   "cell_type": "code",
   "execution_count": 22,
   "id": "10600531",
   "metadata": {},
   "outputs": [
    {
     "name": "stderr",
     "output_type": "stream",
     "text": [
      "C:\\Anaconda\\lib\\site-packages\\keras\\src\\engine\\training.py:3000: UserWarning: You are saving your model as an HDF5 file via `model.save()`. This file format is considered legacy. We recommend using instead the native Keras format, e.g. `model.save('my_model.keras')`.\n",
      "  saving_api.save_model(\n"
     ]
    }
   ],
   "source": [
    "#Saving the model\n",
    "model_mobilenet.save('mobilenetmodel.h5')"
   ]
  },
  {
   "cell_type": "code",
   "execution_count": 23,
   "id": "b4782f23",
   "metadata": {},
   "outputs": [],
   "source": [
    "#Loading the model\n",
    "mod = tf.keras.models.load_model('mobilenetmodel.h5')"
   ]
  },
  {
   "cell_type": "code",
   "execution_count": 25,
   "id": "e818e73a",
   "metadata": {},
   "outputs": [
    {
     "name": "stdout",
     "output_type": "stream",
     "text": [
      "225/225 [==============================] - 139s 610ms/step\n"
     ]
    },
    {
     "data": {
      "text/plain": [
       "array([1, 3, 1, ..., 3, 3, 1], dtype=int64)"
      ]
     },
     "execution_count": 25,
     "metadata": {},
     "output_type": "execute_result"
    }
   ],
   "source": [
    "#Prediction for train data\n",
    "y_train_prob = mod.predict(x_train)\n",
    "y_train_pred=np.argmax(y_train_prob,axis=1)\n",
    "y_train_pred"
   ]
  },
  {
   "cell_type": "code",
   "execution_count": 33,
   "id": "4461626e",
   "metadata": {},
   "outputs": [
    {
     "name": "stdout",
     "output_type": "stream",
     "text": [
      "              precision    recall  f1-score   support\n",
      "\n",
      "           0       0.95      0.99      0.97       171\n",
      "           1       0.99      0.97      0.98      2349\n",
      "           2       0.99      0.99      0.99       534\n",
      "           3       0.96      0.99      0.97      2079\n",
      "           4       1.00      0.99      1.00      1185\n",
      "           5       0.98      0.97      0.97       882\n",
      "\n",
      "    accuracy                           0.98      7200\n",
      "   macro avg       0.98      0.98      0.98      7200\n",
      "weighted avg       0.98      0.98      0.98      7200\n",
      "\n"
     ]
    }
   ],
   "source": [
    "#Printing the classification report for train data\n",
    "from sklearn.metrics import classification_report\n",
    "y_train = np.argmax(y_train,axis=1)\n",
    "print(classification_report(y_train,y_train_pred))"
   ]
  },
  {
   "cell_type": "code",
   "execution_count": 34,
   "id": "2d079226",
   "metadata": {},
   "outputs": [
    {
     "name": "stdout",
     "output_type": "stream",
     "text": [
      "150/150 [==============================] - 98s 651ms/step\n"
     ]
    },
    {
     "data": {
      "text/plain": [
       "array([5, 3, 1, ..., 3, 1, 3], dtype=int64)"
      ]
     },
     "execution_count": 34,
     "metadata": {},
     "output_type": "execute_result"
    }
   ],
   "source": [
    "#Prediction for test data\n",
    "y_test_prob = mod.predict(x_test)\n",
    "y_test_pred = np.argmax(y_test_prob,axis=1)\n",
    "y_test_pred"
   ]
  },
  {
   "cell_type": "code",
   "execution_count": 35,
   "id": "917f1152",
   "metadata": {},
   "outputs": [
    {
     "data": {
      "text/html": [
       "<div>\n",
       "<style scoped>\n",
       "    .dataframe tbody tr th:only-of-type {\n",
       "        vertical-align: middle;\n",
       "    }\n",
       "\n",
       "    .dataframe tbody tr th {\n",
       "        vertical-align: top;\n",
       "    }\n",
       "\n",
       "    .dataframe thead th {\n",
       "        text-align: right;\n",
       "    }\n",
       "</style>\n",
       "<table border=\"1\" class=\"dataframe\">\n",
       "  <thead>\n",
       "    <tr style=\"text-align: right;\">\n",
       "      <th></th>\n",
       "      <th>image_id</th>\n",
       "      <th>filename</th>\n",
       "      <th>image</th>\n",
       "    </tr>\n",
       "  </thead>\n",
       "  <tbody>\n",
       "    <tr>\n",
       "      <th>0</th>\n",
       "      <td>7201</td>\n",
       "      <td>7201.jpg</td>\n",
       "      <td>[[[147, 151, 162], [134, 138, 149], [136, 140,...</td>\n",
       "    </tr>\n",
       "    <tr>\n",
       "      <th>1</th>\n",
       "      <td>7202</td>\n",
       "      <td>7202.jpg</td>\n",
       "      <td>[[[165, 153, 147], [155, 143, 137], [155, 143,...</td>\n",
       "    </tr>\n",
       "    <tr>\n",
       "      <th>2</th>\n",
       "      <td>7203</td>\n",
       "      <td>7203.jpg</td>\n",
       "      <td>[[[97, 109, 119], [93, 105, 115], [106, 121, 1...</td>\n",
       "    </tr>\n",
       "    <tr>\n",
       "      <th>3</th>\n",
       "      <td>7204</td>\n",
       "      <td>7204.jpg</td>\n",
       "      <td>[[[6, 4, 3], [10, 8, 7], [8, 6, 6], [9, 7, 7],...</td>\n",
       "    </tr>\n",
       "    <tr>\n",
       "      <th>4</th>\n",
       "      <td>7205</td>\n",
       "      <td>7205.jpg</td>\n",
       "      <td>[[[24, 40, 47], [27, 43, 50], [17, 33, 40], [3...</td>\n",
       "    </tr>\n",
       "    <tr>\n",
       "      <th>...</th>\n",
       "      <td>...</td>\n",
       "      <td>...</td>\n",
       "      <td>...</td>\n",
       "    </tr>\n",
       "    <tr>\n",
       "      <th>4795</th>\n",
       "      <td>11996</td>\n",
       "      <td>11996.jpg</td>\n",
       "      <td>[[[115, 115, 115], [134, 134, 134], [130, 130,...</td>\n",
       "    </tr>\n",
       "    <tr>\n",
       "      <th>4796</th>\n",
       "      <td>11997</td>\n",
       "      <td>11997.jpg</td>\n",
       "      <td>[[[94, 97, 102], [236, 239, 243], [236, 237, 2...</td>\n",
       "    </tr>\n",
       "    <tr>\n",
       "      <th>4797</th>\n",
       "      <td>11998</td>\n",
       "      <td>11998.jpg</td>\n",
       "      <td>[[[245, 245, 245], [244, 243, 247], [244, 243,...</td>\n",
       "    </tr>\n",
       "    <tr>\n",
       "      <th>4798</th>\n",
       "      <td>11999</td>\n",
       "      <td>11999.jpg</td>\n",
       "      <td>[[[14, 10, 9], [14, 9, 9], [10, 5, 5], [16, 12...</td>\n",
       "    </tr>\n",
       "    <tr>\n",
       "      <th>4799</th>\n",
       "      <td>12000</td>\n",
       "      <td>12000.jpg</td>\n",
       "      <td>[[[198, 204, 199], [64, 86, 76], [50, 70, 70],...</td>\n",
       "    </tr>\n",
       "  </tbody>\n",
       "</table>\n",
       "<p>4800 rows × 3 columns</p>\n",
       "</div>"
      ],
      "text/plain": [
       "     image_id   filename                                              image\n",
       "0        7201   7201.jpg  [[[147, 151, 162], [134, 138, 149], [136, 140,...\n",
       "1        7202   7202.jpg  [[[165, 153, 147], [155, 143, 137], [155, 143,...\n",
       "2        7203   7203.jpg  [[[97, 109, 119], [93, 105, 115], [106, 121, 1...\n",
       "3        7204   7204.jpg  [[[6, 4, 3], [10, 8, 7], [8, 6, 6], [9, 7, 7],...\n",
       "4        7205   7205.jpg  [[[24, 40, 47], [27, 43, 50], [17, 33, 40], [3...\n",
       "...       ...        ...                                                ...\n",
       "4795    11996  11996.jpg  [[[115, 115, 115], [134, 134, 134], [130, 130,...\n",
       "4796    11997  11997.jpg  [[[94, 97, 102], [236, 239, 243], [236, 237, 2...\n",
       "4797    11998  11998.jpg  [[[245, 245, 245], [244, 243, 247], [244, 243,...\n",
       "4798    11999  11999.jpg  [[[14, 10, 9], [14, 9, 9], [10, 5, 5], [16, 12...\n",
       "4799    12000  12000.jpg  [[[198, 204, 199], [64, 86, 76], [50, 70, 70],...\n",
       "\n",
       "[4800 rows x 3 columns]"
      ]
     },
     "execution_count": 35,
     "metadata": {},
     "output_type": "execute_result"
    }
   ],
   "source": [
    "df_test"
   ]
  },
  {
   "cell_type": "code",
   "execution_count": 36,
   "id": "b88cf268",
   "metadata": {},
   "outputs": [],
   "source": [
    "df_test['label'] = y_test_pred"
   ]
  },
  {
   "cell_type": "code",
   "execution_count": 37,
   "id": "d39355a6",
   "metadata": {},
   "outputs": [
    {
     "data": {
      "text/html": [
       "<div>\n",
       "<style scoped>\n",
       "    .dataframe tbody tr th:only-of-type {\n",
       "        vertical-align: middle;\n",
       "    }\n",
       "\n",
       "    .dataframe tbody tr th {\n",
       "        vertical-align: top;\n",
       "    }\n",
       "\n",
       "    .dataframe thead th {\n",
       "        text-align: right;\n",
       "    }\n",
       "</style>\n",
       "<table border=\"1\" class=\"dataframe\">\n",
       "  <thead>\n",
       "    <tr style=\"text-align: right;\">\n",
       "      <th></th>\n",
       "      <th>image_id</th>\n",
       "      <th>filename</th>\n",
       "      <th>image</th>\n",
       "      <th>label</th>\n",
       "    </tr>\n",
       "  </thead>\n",
       "  <tbody>\n",
       "    <tr>\n",
       "      <th>0</th>\n",
       "      <td>7201</td>\n",
       "      <td>7201.jpg</td>\n",
       "      <td>[[[147, 151, 162], [134, 138, 149], [136, 140,...</td>\n",
       "      <td>5</td>\n",
       "    </tr>\n",
       "    <tr>\n",
       "      <th>1</th>\n",
       "      <td>7202</td>\n",
       "      <td>7202.jpg</td>\n",
       "      <td>[[[165, 153, 147], [155, 143, 137], [155, 143,...</td>\n",
       "      <td>3</td>\n",
       "    </tr>\n",
       "    <tr>\n",
       "      <th>2</th>\n",
       "      <td>7203</td>\n",
       "      <td>7203.jpg</td>\n",
       "      <td>[[[97, 109, 119], [93, 105, 115], [106, 121, 1...</td>\n",
       "      <td>1</td>\n",
       "    </tr>\n",
       "    <tr>\n",
       "      <th>3</th>\n",
       "      <td>7204</td>\n",
       "      <td>7204.jpg</td>\n",
       "      <td>[[[6, 4, 3], [10, 8, 7], [8, 6, 6], [9, 7, 7],...</td>\n",
       "      <td>4</td>\n",
       "    </tr>\n",
       "    <tr>\n",
       "      <th>4</th>\n",
       "      <td>7205</td>\n",
       "      <td>7205.jpg</td>\n",
       "      <td>[[[24, 40, 47], [27, 43, 50], [17, 33, 40], [3...</td>\n",
       "      <td>3</td>\n",
       "    </tr>\n",
       "    <tr>\n",
       "      <th>...</th>\n",
       "      <td>...</td>\n",
       "      <td>...</td>\n",
       "      <td>...</td>\n",
       "      <td>...</td>\n",
       "    </tr>\n",
       "    <tr>\n",
       "      <th>4795</th>\n",
       "      <td>11996</td>\n",
       "      <td>11996.jpg</td>\n",
       "      <td>[[[115, 115, 115], [134, 134, 134], [130, 130,...</td>\n",
       "      <td>5</td>\n",
       "    </tr>\n",
       "    <tr>\n",
       "      <th>4796</th>\n",
       "      <td>11997</td>\n",
       "      <td>11997.jpg</td>\n",
       "      <td>[[[94, 97, 102], [236, 239, 243], [236, 237, 2...</td>\n",
       "      <td>5</td>\n",
       "    </tr>\n",
       "    <tr>\n",
       "      <th>4797</th>\n",
       "      <td>11998</td>\n",
       "      <td>11998.jpg</td>\n",
       "      <td>[[[245, 245, 245], [244, 243, 247], [244, 243,...</td>\n",
       "      <td>3</td>\n",
       "    </tr>\n",
       "    <tr>\n",
       "      <th>4798</th>\n",
       "      <td>11999</td>\n",
       "      <td>11999.jpg</td>\n",
       "      <td>[[[14, 10, 9], [14, 9, 9], [10, 5, 5], [16, 12...</td>\n",
       "      <td>1</td>\n",
       "    </tr>\n",
       "    <tr>\n",
       "      <th>4799</th>\n",
       "      <td>12000</td>\n",
       "      <td>12000.jpg</td>\n",
       "      <td>[[[198, 204, 199], [64, 86, 76], [50, 70, 70],...</td>\n",
       "      <td>3</td>\n",
       "    </tr>\n",
       "  </tbody>\n",
       "</table>\n",
       "<p>4800 rows × 4 columns</p>\n",
       "</div>"
      ],
      "text/plain": [
       "     image_id   filename                                              image  \\\n",
       "0        7201   7201.jpg  [[[147, 151, 162], [134, 138, 149], [136, 140,...   \n",
       "1        7202   7202.jpg  [[[165, 153, 147], [155, 143, 137], [155, 143,...   \n",
       "2        7203   7203.jpg  [[[97, 109, 119], [93, 105, 115], [106, 121, 1...   \n",
       "3        7204   7204.jpg  [[[6, 4, 3], [10, 8, 7], [8, 6, 6], [9, 7, 7],...   \n",
       "4        7205   7205.jpg  [[[24, 40, 47], [27, 43, 50], [17, 33, 40], [3...   \n",
       "...       ...        ...                                                ...   \n",
       "4795    11996  11996.jpg  [[[115, 115, 115], [134, 134, 134], [130, 130,...   \n",
       "4796    11997  11997.jpg  [[[94, 97, 102], [236, 239, 243], [236, 237, 2...   \n",
       "4797    11998  11998.jpg  [[[245, 245, 245], [244, 243, 247], [244, 243,...   \n",
       "4798    11999  11999.jpg  [[[14, 10, 9], [14, 9, 9], [10, 5, 5], [16, 12...   \n",
       "4799    12000  12000.jpg  [[[198, 204, 199], [64, 86, 76], [50, 70, 70],...   \n",
       "\n",
       "      label  \n",
       "0         5  \n",
       "1         3  \n",
       "2         1  \n",
       "3         4  \n",
       "4         3  \n",
       "...     ...  \n",
       "4795      5  \n",
       "4796      5  \n",
       "4797      3  \n",
       "4798      1  \n",
       "4799      3  \n",
       "\n",
       "[4800 rows x 4 columns]"
      ]
     },
     "execution_count": 37,
     "metadata": {},
     "output_type": "execute_result"
    }
   ],
   "source": [
    "df_test"
   ]
  },
  {
   "cell_type": "code",
   "execution_count": 45,
   "id": "af6b96c2",
   "metadata": {},
   "outputs": [],
   "source": [
    "submission_df = df_test.loc[:,['image_id','label']]"
   ]
  },
  {
   "cell_type": "code",
   "execution_count": 49,
   "id": "a7069f6a",
   "metadata": {},
   "outputs": [],
   "source": [
    "submission_df.to_csv('sample_submission.csv',index=False)"
   ]
  },
  {
   "cell_type": "markdown",
   "id": "73306841",
   "metadata": {},
   "source": [
    "### Moddel2"
   ]
  },
  {
   "cell_type": "code",
   "execution_count": 15,
   "id": "bfa249f1",
   "metadata": {},
   "outputs": [],
   "source": [
    "from tensorflow.keras import backend\n",
    "backend.clear_session()\n",
    "#Fixing the seed for random number generators so that we can ensure we receive the same output everytime\n",
    "np.random.seed(50)\n",
    "import random\n",
    "random.seed(50)\n",
    "tf.random.set_seed(50)"
   ]
  },
  {
   "cell_type": "code",
   "execution_count": 16,
   "id": "f3fc2bee",
   "metadata": {},
   "outputs": [],
   "source": [
    "#Developing the model\n",
    "model2 = tf.keras.models.Sequential()\n",
    "#model2.add(tf.keras.Input(shape=(224,224,3)))\n",
    "model2.add(tf.keras.layers.Conv2D(32,(3,3),activation='relu',padding='same'))\n",
    "model2.add(tf.keras.layers.MaxPool2D())\n",
    "model2.add(tf.keras.layers.Conv2D(32,(3,3),activation='relu',padding='same'))\n",
    "model2.add(tf.keras.layers.MaxPool2D())\n",
    "model2.add(tf.keras.layers.Flatten())\n",
    "model2.add(tf.keras.layers.Dense(64,activation='relu',kernel_initializer='he_uniform'))\n",
    "model2.add(tf.keras.layers.Dropout(0.4))\n",
    "model2.add(tf.keras.layers.Dense(32,activation='relu',kernel_initializer='he_uniform'))\n",
    "model2.add(tf.keras.layers.Dropout(0.4))\n",
    "model2.add(tf.keras.layers.Dense(units=6,activation='softmax'))"
   ]
  },
  {
   "cell_type": "code",
   "execution_count": 17,
   "id": "4867a032",
   "metadata": {},
   "outputs": [
    {
     "ename": "ValueError",
     "evalue": "This model has not yet been built. Build the model first by calling `build()` or by calling the model on a batch of data.",
     "output_type": "error",
     "traceback": [
      "\u001b[1;31m---------------------------------------------------------------------------\u001b[0m",
      "\u001b[1;31mValueError\u001b[0m                                Traceback (most recent call last)",
      "\u001b[1;32m<ipython-input-17-378732ef5219>\u001b[0m in \u001b[0;36m<module>\u001b[1;34m\u001b[0m\n\u001b[1;32m----> 1\u001b[1;33m \u001b[0mmodel2\u001b[0m\u001b[1;33m.\u001b[0m\u001b[0msummary\u001b[0m\u001b[1;33m(\u001b[0m\u001b[1;33m)\u001b[0m\u001b[1;33m\u001b[0m\u001b[1;33m\u001b[0m\u001b[0m\n\u001b[0m",
      "\u001b[1;32mC:\\Anaconda\\lib\\site-packages\\keras\\src\\engine\\training.py\u001b[0m in \u001b[0;36msummary\u001b[1;34m(self, line_length, positions, print_fn, expand_nested, show_trainable, layer_range)\u001b[0m\n\u001b[0;32m   3401\u001b[0m         \"\"\"\n\u001b[0;32m   3402\u001b[0m         \u001b[1;32mif\u001b[0m \u001b[1;32mnot\u001b[0m \u001b[0mself\u001b[0m\u001b[1;33m.\u001b[0m\u001b[0mbuilt\u001b[0m\u001b[1;33m:\u001b[0m\u001b[1;33m\u001b[0m\u001b[1;33m\u001b[0m\u001b[0m\n\u001b[1;32m-> 3403\u001b[1;33m             raise ValueError(\n\u001b[0m\u001b[0;32m   3404\u001b[0m                 \u001b[1;34m\"This model has not yet been built. \"\u001b[0m\u001b[1;33m\u001b[0m\u001b[1;33m\u001b[0m\u001b[0m\n\u001b[0;32m   3405\u001b[0m                 \u001b[1;34m\"Build the model first by calling `build()` or by calling \"\u001b[0m\u001b[1;33m\u001b[0m\u001b[1;33m\u001b[0m\u001b[0m\n",
      "\u001b[1;31mValueError\u001b[0m: This model has not yet been built. Build the model first by calling `build()` or by calling the model on a batch of data."
     ]
    }
   ],
   "source": [
    "model2.summary()"
   ]
  },
  {
   "cell_type": "code",
   "execution_count": 18,
   "id": "5e57168a",
   "metadata": {},
   "outputs": [],
   "source": [
    "#compile the model\n",
    "model2.compile(optimizer=tf.keras.optimizers.Adam(), loss='categorical_crossentropy', metrics=['accuracy'])"
   ]
  },
  {
   "cell_type": "code",
   "execution_count": 19,
   "id": "a59e2060",
   "metadata": {},
   "outputs": [],
   "source": [
    "from tensorflow.keras.callbacks import ModelCheckpoint, EarlyStopping, ReduceLROnPlateau\n",
    "\n",
    "checkpoint = ModelCheckpoint(\"model-{val_loss:.2f}.h5\", monitor=\"val_loss\", verbose=1,mode='min', save_best_only=True, save_weights_only=True)\n",
    "\n",
    "stop = EarlyStopping(monitor=\"val_loss\", patience=6, mode='min')\n",
    "\n",
    "reduce_lr = ReduceLROnPlateau(monitor=\"val_loss\", factor=0.2, patience=4, min_lr=1e-6, verbose=1, mode='min')"
   ]
  },
  {
   "cell_type": "code",
   "execution_count": 20,
   "id": "e54b0d5c",
   "metadata": {},
   "outputs": [
    {
     "name": "stdout",
     "output_type": "stream",
     "text": [
      "Epoch 1/100\n",
      "180/180 [==============================] - ETA: 0s - loss: 1.7358 - accuracy: 0.3031\n",
      "Epoch 1: val_loss improved from inf to 1.50672, saving model to model-1.51.h5\n",
      "180/180 [==============================] - 190s 1s/step - loss: 1.7358 - accuracy: 0.3031 - val_loss: 1.5067 - val_accuracy: 0.3410 - lr: 0.0010\n",
      "Epoch 2/100\n",
      "180/180 [==============================] - ETA: 0s - loss: 1.4880 - accuracy: 0.3615\n",
      "Epoch 2: val_loss improved from 1.50672 to 1.32308, saving model to model-1.32.h5\n",
      "180/180 [==============================] - 179s 992ms/step - loss: 1.4880 - accuracy: 0.3615 - val_loss: 1.3231 - val_accuracy: 0.4646 - lr: 0.0010\n",
      "Epoch 3/100\n",
      "180/180 [==============================] - ETA: 0s - loss: 1.3464 - accuracy: 0.4264\n",
      "Epoch 3: val_loss improved from 1.32308 to 1.23459, saving model to model-1.23.h5\n",
      "180/180 [==============================] - 233s 1s/step - loss: 1.3464 - accuracy: 0.4264 - val_loss: 1.2346 - val_accuracy: 0.5292 - lr: 0.0010\n",
      "Epoch 4/100\n",
      "180/180 [==============================] - ETA: 0s - loss: 1.1745 - accuracy: 0.5069\n",
      "Epoch 4: val_loss improved from 1.23459 to 1.05000, saving model to model-1.05.h5\n",
      "180/180 [==============================] - 261s 1s/step - loss: 1.1745 - accuracy: 0.5069 - val_loss: 1.0500 - val_accuracy: 0.6118 - lr: 0.0010\n",
      "Epoch 5/100\n",
      "180/180 [==============================] - ETA: 0s - loss: 1.0350 - accuracy: 0.5814\n",
      "Epoch 5: val_loss improved from 1.05000 to 0.97559, saving model to model-0.98.h5\n",
      "180/180 [==============================] - 262s 1s/step - loss: 1.0350 - accuracy: 0.5814 - val_loss: 0.9756 - val_accuracy: 0.6396 - lr: 0.0010\n",
      "Epoch 6/100\n",
      "180/180 [==============================] - ETA: 0s - loss: 0.8638 - accuracy: 0.6547\n",
      "Epoch 6: val_loss improved from 0.97559 to 0.92806, saving model to model-0.93.h5\n",
      "180/180 [==============================] - 260s 1s/step - loss: 0.8638 - accuracy: 0.6547 - val_loss: 0.9281 - val_accuracy: 0.6583 - lr: 0.0010\n",
      "Epoch 7/100\n",
      "128/180 [====================>.........] - ETA: 1:04 - loss: 0.7583 - accuracy: 0.7043"
     ]
    },
    {
     "ename": "KeyboardInterrupt",
     "evalue": "",
     "output_type": "error",
     "traceback": [
      "\u001b[1;31m---------------------------------------------------------------------------\u001b[0m",
      "\u001b[1;31mKeyboardInterrupt\u001b[0m                         Traceback (most recent call last)",
      "\u001b[1;32m<ipython-input-20-3f3cda052ee0>\u001b[0m in \u001b[0;36m<module>\u001b[1;34m\u001b[0m\n\u001b[0;32m      1\u001b[0m \u001b[1;31m#Training the model\u001b[0m\u001b[1;33m\u001b[0m\u001b[1;33m\u001b[0m\u001b[1;33m\u001b[0m\u001b[0m\n\u001b[1;32m----> 2\u001b[1;33m history2=model2.fit(x_train, y_train,\n\u001b[0m\u001b[0;32m      3\u001b[0m           \u001b[0mvalidation_split\u001b[0m\u001b[1;33m=\u001b[0m\u001b[1;36m0.2\u001b[0m\u001b[1;33m,\u001b[0m\u001b[1;33m\u001b[0m\u001b[1;33m\u001b[0m\u001b[0m\n\u001b[0;32m      4\u001b[0m           \u001b[0mepochs\u001b[0m\u001b[1;33m=\u001b[0m\u001b[1;36m100\u001b[0m\u001b[1;33m,\u001b[0m\u001b[1;33m\u001b[0m\u001b[1;33m\u001b[0m\u001b[0m\n\u001b[0;32m      5\u001b[0m           batch_size=32,verbose=1,callbacks=[checkpoint,reduce_lr,stop])\n",
      "\u001b[1;32mC:\\Anaconda\\lib\\site-packages\\keras\\src\\utils\\traceback_utils.py\u001b[0m in \u001b[0;36merror_handler\u001b[1;34m(*args, **kwargs)\u001b[0m\n\u001b[0;32m     63\u001b[0m         \u001b[0mfiltered_tb\u001b[0m \u001b[1;33m=\u001b[0m \u001b[1;32mNone\u001b[0m\u001b[1;33m\u001b[0m\u001b[1;33m\u001b[0m\u001b[0m\n\u001b[0;32m     64\u001b[0m         \u001b[1;32mtry\u001b[0m\u001b[1;33m:\u001b[0m\u001b[1;33m\u001b[0m\u001b[1;33m\u001b[0m\u001b[0m\n\u001b[1;32m---> 65\u001b[1;33m             \u001b[1;32mreturn\u001b[0m \u001b[0mfn\u001b[0m\u001b[1;33m(\u001b[0m\u001b[1;33m*\u001b[0m\u001b[0margs\u001b[0m\u001b[1;33m,\u001b[0m \u001b[1;33m**\u001b[0m\u001b[0mkwargs\u001b[0m\u001b[1;33m)\u001b[0m\u001b[1;33m\u001b[0m\u001b[1;33m\u001b[0m\u001b[0m\n\u001b[0m\u001b[0;32m     66\u001b[0m         \u001b[1;32mexcept\u001b[0m \u001b[0mException\u001b[0m \u001b[1;32mas\u001b[0m \u001b[0me\u001b[0m\u001b[1;33m:\u001b[0m\u001b[1;33m\u001b[0m\u001b[1;33m\u001b[0m\u001b[0m\n\u001b[0;32m     67\u001b[0m             \u001b[0mfiltered_tb\u001b[0m \u001b[1;33m=\u001b[0m \u001b[0m_process_traceback_frames\u001b[0m\u001b[1;33m(\u001b[0m\u001b[0me\u001b[0m\u001b[1;33m.\u001b[0m\u001b[0m__traceback__\u001b[0m\u001b[1;33m)\u001b[0m\u001b[1;33m\u001b[0m\u001b[1;33m\u001b[0m\u001b[0m\n",
      "\u001b[1;32mC:\\Anaconda\\lib\\site-packages\\keras\\src\\engine\\training.py\u001b[0m in \u001b[0;36mfit\u001b[1;34m(self, x, y, batch_size, epochs, verbose, callbacks, validation_split, validation_data, shuffle, class_weight, sample_weight, initial_epoch, steps_per_epoch, validation_steps, validation_batch_size, validation_freq, max_queue_size, workers, use_multiprocessing)\u001b[0m\n\u001b[0;32m   1740\u001b[0m                         ):\n\u001b[0;32m   1741\u001b[0m                             \u001b[0mcallbacks\u001b[0m\u001b[1;33m.\u001b[0m\u001b[0mon_train_batch_begin\u001b[0m\u001b[1;33m(\u001b[0m\u001b[0mstep\u001b[0m\u001b[1;33m)\u001b[0m\u001b[1;33m\u001b[0m\u001b[1;33m\u001b[0m\u001b[0m\n\u001b[1;32m-> 1742\u001b[1;33m                             \u001b[0mtmp_logs\u001b[0m \u001b[1;33m=\u001b[0m \u001b[0mself\u001b[0m\u001b[1;33m.\u001b[0m\u001b[0mtrain_function\u001b[0m\u001b[1;33m(\u001b[0m\u001b[0miterator\u001b[0m\u001b[1;33m)\u001b[0m\u001b[1;33m\u001b[0m\u001b[1;33m\u001b[0m\u001b[0m\n\u001b[0m\u001b[0;32m   1743\u001b[0m                             \u001b[1;32mif\u001b[0m \u001b[0mdata_handler\u001b[0m\u001b[1;33m.\u001b[0m\u001b[0mshould_sync\u001b[0m\u001b[1;33m:\u001b[0m\u001b[1;33m\u001b[0m\u001b[1;33m\u001b[0m\u001b[0m\n\u001b[0;32m   1744\u001b[0m                                 \u001b[0mcontext\u001b[0m\u001b[1;33m.\u001b[0m\u001b[0masync_wait\u001b[0m\u001b[1;33m(\u001b[0m\u001b[1;33m)\u001b[0m\u001b[1;33m\u001b[0m\u001b[1;33m\u001b[0m\u001b[0m\n",
      "\u001b[1;32mC:\\Anaconda\\lib\\site-packages\\tensorflow\\python\\util\\traceback_utils.py\u001b[0m in \u001b[0;36merror_handler\u001b[1;34m(*args, **kwargs)\u001b[0m\n\u001b[0;32m    148\u001b[0m     \u001b[0mfiltered_tb\u001b[0m \u001b[1;33m=\u001b[0m \u001b[1;32mNone\u001b[0m\u001b[1;33m\u001b[0m\u001b[1;33m\u001b[0m\u001b[0m\n\u001b[0;32m    149\u001b[0m     \u001b[1;32mtry\u001b[0m\u001b[1;33m:\u001b[0m\u001b[1;33m\u001b[0m\u001b[1;33m\u001b[0m\u001b[0m\n\u001b[1;32m--> 150\u001b[1;33m       \u001b[1;32mreturn\u001b[0m \u001b[0mfn\u001b[0m\u001b[1;33m(\u001b[0m\u001b[1;33m*\u001b[0m\u001b[0margs\u001b[0m\u001b[1;33m,\u001b[0m \u001b[1;33m**\u001b[0m\u001b[0mkwargs\u001b[0m\u001b[1;33m)\u001b[0m\u001b[1;33m\u001b[0m\u001b[1;33m\u001b[0m\u001b[0m\n\u001b[0m\u001b[0;32m    151\u001b[0m     \u001b[1;32mexcept\u001b[0m \u001b[0mException\u001b[0m \u001b[1;32mas\u001b[0m \u001b[0me\u001b[0m\u001b[1;33m:\u001b[0m\u001b[1;33m\u001b[0m\u001b[1;33m\u001b[0m\u001b[0m\n\u001b[0;32m    152\u001b[0m       \u001b[0mfiltered_tb\u001b[0m \u001b[1;33m=\u001b[0m \u001b[0m_process_traceback_frames\u001b[0m\u001b[1;33m(\u001b[0m\u001b[0me\u001b[0m\u001b[1;33m.\u001b[0m\u001b[0m__traceback__\u001b[0m\u001b[1;33m)\u001b[0m\u001b[1;33m\u001b[0m\u001b[1;33m\u001b[0m\u001b[0m\n",
      "\u001b[1;32mC:\\Anaconda\\lib\\site-packages\\tensorflow\\python\\eager\\polymorphic_function\\polymorphic_function.py\u001b[0m in \u001b[0;36m__call__\u001b[1;34m(self, *args, **kwds)\u001b[0m\n\u001b[0;32m    823\u001b[0m \u001b[1;33m\u001b[0m\u001b[0m\n\u001b[0;32m    824\u001b[0m       \u001b[1;32mwith\u001b[0m \u001b[0mOptionalXlaContext\u001b[0m\u001b[1;33m(\u001b[0m\u001b[0mself\u001b[0m\u001b[1;33m.\u001b[0m\u001b[0m_jit_compile\u001b[0m\u001b[1;33m)\u001b[0m\u001b[1;33m:\u001b[0m\u001b[1;33m\u001b[0m\u001b[1;33m\u001b[0m\u001b[0m\n\u001b[1;32m--> 825\u001b[1;33m         \u001b[0mresult\u001b[0m \u001b[1;33m=\u001b[0m \u001b[0mself\u001b[0m\u001b[1;33m.\u001b[0m\u001b[0m_call\u001b[0m\u001b[1;33m(\u001b[0m\u001b[1;33m*\u001b[0m\u001b[0margs\u001b[0m\u001b[1;33m,\u001b[0m \u001b[1;33m**\u001b[0m\u001b[0mkwds\u001b[0m\u001b[1;33m)\u001b[0m\u001b[1;33m\u001b[0m\u001b[1;33m\u001b[0m\u001b[0m\n\u001b[0m\u001b[0;32m    826\u001b[0m \u001b[1;33m\u001b[0m\u001b[0m\n\u001b[0;32m    827\u001b[0m       \u001b[0mnew_tracing_count\u001b[0m \u001b[1;33m=\u001b[0m \u001b[0mself\u001b[0m\u001b[1;33m.\u001b[0m\u001b[0mexperimental_get_tracing_count\u001b[0m\u001b[1;33m(\u001b[0m\u001b[1;33m)\u001b[0m\u001b[1;33m\u001b[0m\u001b[1;33m\u001b[0m\u001b[0m\n",
      "\u001b[1;32mC:\\Anaconda\\lib\\site-packages\\tensorflow\\python\\eager\\polymorphic_function\\polymorphic_function.py\u001b[0m in \u001b[0;36m_call\u001b[1;34m(self, *args, **kwds)\u001b[0m\n\u001b[0;32m    855\u001b[0m       \u001b[1;31m# In this case we have created variables on the first call, so we run the\u001b[0m\u001b[1;33m\u001b[0m\u001b[1;33m\u001b[0m\u001b[1;33m\u001b[0m\u001b[0m\n\u001b[0;32m    856\u001b[0m       \u001b[1;31m# defunned version which is guaranteed to never create variables.\u001b[0m\u001b[1;33m\u001b[0m\u001b[1;33m\u001b[0m\u001b[1;33m\u001b[0m\u001b[0m\n\u001b[1;32m--> 857\u001b[1;33m       \u001b[1;32mreturn\u001b[0m \u001b[0mself\u001b[0m\u001b[1;33m.\u001b[0m\u001b[0m_no_variable_creation_fn\u001b[0m\u001b[1;33m(\u001b[0m\u001b[1;33m*\u001b[0m\u001b[0margs\u001b[0m\u001b[1;33m,\u001b[0m \u001b[1;33m**\u001b[0m\u001b[0mkwds\u001b[0m\u001b[1;33m)\u001b[0m  \u001b[1;31m# pylint: disable=not-callable\u001b[0m\u001b[1;33m\u001b[0m\u001b[1;33m\u001b[0m\u001b[0m\n\u001b[0m\u001b[0;32m    858\u001b[0m     \u001b[1;32melif\u001b[0m \u001b[0mself\u001b[0m\u001b[1;33m.\u001b[0m\u001b[0m_variable_creation_fn\u001b[0m \u001b[1;32mis\u001b[0m \u001b[1;32mnot\u001b[0m \u001b[1;32mNone\u001b[0m\u001b[1;33m:\u001b[0m\u001b[1;33m\u001b[0m\u001b[1;33m\u001b[0m\u001b[0m\n\u001b[0;32m    859\u001b[0m       \u001b[1;31m# Release the lock early so that multiple threads can perform the call\u001b[0m\u001b[1;33m\u001b[0m\u001b[1;33m\u001b[0m\u001b[1;33m\u001b[0m\u001b[0m\n",
      "\u001b[1;32mC:\\Anaconda\\lib\\site-packages\\tensorflow\\python\\eager\\polymorphic_function\\tracing_compiler.py\u001b[0m in \u001b[0;36m__call__\u001b[1;34m(self, *args, **kwargs)\u001b[0m\n\u001b[0;32m    146\u001b[0m       (concrete_function,\n\u001b[0;32m    147\u001b[0m        filtered_flat_args) = self._maybe_define_function(args, kwargs)\n\u001b[1;32m--> 148\u001b[1;33m     return concrete_function._call_flat(\n\u001b[0m\u001b[0;32m    149\u001b[0m         filtered_flat_args, captured_inputs=concrete_function.captured_inputs)  # pylint: disable=protected-access\n\u001b[0;32m    150\u001b[0m \u001b[1;33m\u001b[0m\u001b[0m\n",
      "\u001b[1;32mC:\\Anaconda\\lib\\site-packages\\tensorflow\\python\\eager\\polymorphic_function\\monomorphic_function.py\u001b[0m in \u001b[0;36m_call_flat\u001b[1;34m(self, args, captured_inputs)\u001b[0m\n\u001b[0;32m   1347\u001b[0m         and executing_eagerly):\n\u001b[0;32m   1348\u001b[0m       \u001b[1;31m# No tape is watching; skip to running the function.\u001b[0m\u001b[1;33m\u001b[0m\u001b[1;33m\u001b[0m\u001b[1;33m\u001b[0m\u001b[0m\n\u001b[1;32m-> 1349\u001b[1;33m       \u001b[1;32mreturn\u001b[0m \u001b[0mself\u001b[0m\u001b[1;33m.\u001b[0m\u001b[0m_build_call_outputs\u001b[0m\u001b[1;33m(\u001b[0m\u001b[0mself\u001b[0m\u001b[1;33m.\u001b[0m\u001b[0m_inference_function\u001b[0m\u001b[1;33m(\u001b[0m\u001b[1;33m*\u001b[0m\u001b[0margs\u001b[0m\u001b[1;33m)\u001b[0m\u001b[1;33m)\u001b[0m\u001b[1;33m\u001b[0m\u001b[1;33m\u001b[0m\u001b[0m\n\u001b[0m\u001b[0;32m   1350\u001b[0m     forward_backward = self._select_forward_and_backward_functions(\n\u001b[0;32m   1351\u001b[0m         \u001b[0margs\u001b[0m\u001b[1;33m,\u001b[0m\u001b[1;33m\u001b[0m\u001b[1;33m\u001b[0m\u001b[0m\n",
      "\u001b[1;32mC:\\Anaconda\\lib\\site-packages\\tensorflow\\python\\eager\\polymorphic_function\\atomic_function.py\u001b[0m in \u001b[0;36m__call__\u001b[1;34m(self, *args)\u001b[0m\n\u001b[0;32m    194\u001b[0m         \u001b[1;32mwith\u001b[0m \u001b[0mrecord\u001b[0m\u001b[1;33m.\u001b[0m\u001b[0mstop_recording\u001b[0m\u001b[1;33m(\u001b[0m\u001b[1;33m)\u001b[0m\u001b[1;33m:\u001b[0m\u001b[1;33m\u001b[0m\u001b[1;33m\u001b[0m\u001b[0m\n\u001b[0;32m    195\u001b[0m           \u001b[1;32mif\u001b[0m \u001b[0mself\u001b[0m\u001b[1;33m.\u001b[0m\u001b[0m_bound_context\u001b[0m\u001b[1;33m.\u001b[0m\u001b[0mexecuting_eagerly\u001b[0m\u001b[1;33m(\u001b[0m\u001b[1;33m)\u001b[0m\u001b[1;33m:\u001b[0m\u001b[1;33m\u001b[0m\u001b[1;33m\u001b[0m\u001b[0m\n\u001b[1;32m--> 196\u001b[1;33m             outputs = self._bound_context.call_function(\n\u001b[0m\u001b[0;32m    197\u001b[0m                 \u001b[0mself\u001b[0m\u001b[1;33m.\u001b[0m\u001b[0mname\u001b[0m\u001b[1;33m,\u001b[0m\u001b[1;33m\u001b[0m\u001b[1;33m\u001b[0m\u001b[0m\n\u001b[0;32m    198\u001b[0m                 \u001b[0mlist\u001b[0m\u001b[1;33m(\u001b[0m\u001b[0margs\u001b[0m\u001b[1;33m)\u001b[0m\u001b[1;33m,\u001b[0m\u001b[1;33m\u001b[0m\u001b[1;33m\u001b[0m\u001b[0m\n",
      "\u001b[1;32mC:\\Anaconda\\lib\\site-packages\\tensorflow\\python\\eager\\context.py\u001b[0m in \u001b[0;36mcall_function\u001b[1;34m(self, name, tensor_inputs, num_outputs)\u001b[0m\n\u001b[0;32m   1455\u001b[0m     \u001b[0mcancellation_context\u001b[0m \u001b[1;33m=\u001b[0m \u001b[0mcancellation\u001b[0m\u001b[1;33m.\u001b[0m\u001b[0mcontext\u001b[0m\u001b[1;33m(\u001b[0m\u001b[1;33m)\u001b[0m\u001b[1;33m\u001b[0m\u001b[1;33m\u001b[0m\u001b[0m\n\u001b[0;32m   1456\u001b[0m     \u001b[1;32mif\u001b[0m \u001b[0mcancellation_context\u001b[0m \u001b[1;32mis\u001b[0m \u001b[1;32mNone\u001b[0m\u001b[1;33m:\u001b[0m\u001b[1;33m\u001b[0m\u001b[1;33m\u001b[0m\u001b[0m\n\u001b[1;32m-> 1457\u001b[1;33m       outputs = execute.execute(\n\u001b[0m\u001b[0;32m   1458\u001b[0m           \u001b[0mname\u001b[0m\u001b[1;33m.\u001b[0m\u001b[0mdecode\u001b[0m\u001b[1;33m(\u001b[0m\u001b[1;34m\"utf-8\"\u001b[0m\u001b[1;33m)\u001b[0m\u001b[1;33m,\u001b[0m\u001b[1;33m\u001b[0m\u001b[1;33m\u001b[0m\u001b[0m\n\u001b[0;32m   1459\u001b[0m           \u001b[0mnum_outputs\u001b[0m\u001b[1;33m=\u001b[0m\u001b[0mnum_outputs\u001b[0m\u001b[1;33m,\u001b[0m\u001b[1;33m\u001b[0m\u001b[1;33m\u001b[0m\u001b[0m\n",
      "\u001b[1;32mC:\\Anaconda\\lib\\site-packages\\tensorflow\\python\\eager\\execute.py\u001b[0m in \u001b[0;36mquick_execute\u001b[1;34m(op_name, num_outputs, inputs, attrs, ctx, name)\u001b[0m\n\u001b[0;32m     51\u001b[0m   \u001b[1;32mtry\u001b[0m\u001b[1;33m:\u001b[0m\u001b[1;33m\u001b[0m\u001b[1;33m\u001b[0m\u001b[0m\n\u001b[0;32m     52\u001b[0m     \u001b[0mctx\u001b[0m\u001b[1;33m.\u001b[0m\u001b[0mensure_initialized\u001b[0m\u001b[1;33m(\u001b[0m\u001b[1;33m)\u001b[0m\u001b[1;33m\u001b[0m\u001b[1;33m\u001b[0m\u001b[0m\n\u001b[1;32m---> 53\u001b[1;33m     tensors = pywrap_tfe.TFE_Py_Execute(ctx._handle, device_name, op_name,\n\u001b[0m\u001b[0;32m     54\u001b[0m                                         inputs, attrs, num_outputs)\n\u001b[0;32m     55\u001b[0m   \u001b[1;32mexcept\u001b[0m \u001b[0mcore\u001b[0m\u001b[1;33m.\u001b[0m\u001b[0m_NotOkStatusException\u001b[0m \u001b[1;32mas\u001b[0m \u001b[0me\u001b[0m\u001b[1;33m:\u001b[0m\u001b[1;33m\u001b[0m\u001b[1;33m\u001b[0m\u001b[0m\n",
      "\u001b[1;31mKeyboardInterrupt\u001b[0m: "
     ]
    }
   ],
   "source": [
    "#Training the model\n",
    "history2=model2.fit(x_train, y_train,\n",
    "          validation_split=0.2,\n",
    "          epochs=100,\n",
    "          batch_size=32,verbose=1,callbacks=[checkpoint,reduce_lr,stop])"
   ]
  },
  {
   "cell_type": "code",
   "execution_count": null,
   "id": "8efecc00",
   "metadata": {},
   "outputs": [],
   "source": [
    "## Accuracy and Loss plots\n",
    "\n",
    "accuracy = history2.history['accuracy']\n",
    "val_accuracy = history2.history['val_accuracy']\n",
    "loss = history2.history['loss']\n",
    "val_loss = history2.history['val_loss']\n",
    "\n",
    "epochs   = range(len(accuracy)) # Get number of epochs\n",
    "\n",
    "plt.plot  (epochs, accuracy, label = 'training accuracy')\n",
    "plt.plot  (epochs, val_accuracy, label = 'validation accuracy')\n",
    "plt.title ('Training and validation accuracy')\n",
    "plt.legend(loc = 'lower right')\n",
    "plt.figure()\n",
    "\n",
    "plt.plot  (epochs, loss, label = 'training loss')\n",
    "plt.plot  (epochs, val_loss, label = 'validation loss')\n",
    "plt.legend(loc = 'upper right')\n",
    "plt.title ('Training and validation loss')"
   ]
  },
  {
   "cell_type": "code",
   "execution_count": null,
   "id": "0fb3ef0e",
   "metadata": {},
   "outputs": [],
   "source": []
  },
  {
   "cell_type": "code",
   "execution_count": null,
   "id": "1f22ff65",
   "metadata": {},
   "outputs": [],
   "source": []
  },
  {
   "cell_type": "code",
   "execution_count": null,
   "id": "60b31fc4",
   "metadata": {},
   "outputs": [],
   "source": []
  },
  {
   "cell_type": "code",
   "execution_count": null,
   "id": "04186be3",
   "metadata": {},
   "outputs": [],
   "source": []
  },
  {
   "cell_type": "code",
   "execution_count": null,
   "id": "bfa22e81",
   "metadata": {},
   "outputs": [],
   "source": []
  },
  {
   "cell_type": "code",
   "execution_count": null,
   "id": "3bf8fdc5",
   "metadata": {},
   "outputs": [],
   "source": []
  },
  {
   "cell_type": "markdown",
   "id": "5951bcad",
   "metadata": {},
   "source": [
    "### Model3"
   ]
  },
  {
   "cell_type": "code",
   "execution_count": 12,
   "id": "3584aeae",
   "metadata": {},
   "outputs": [],
   "source": [
    "# Import required libraries\n",
    "\n",
    "import tensorflow\n",
    "from tensorflow.keras.applications.inception_resnet_v2 import InceptionResNetV2,preprocess_input as resnet_preprocess\n",
    "from tensorflow.keras.applications.inception_v3 import InceptionV3,preprocess_input as inception_preprocess\n",
    "from tensorflow.keras.applications.xception import Xception , preprocess_input as xception_preprocess\n",
    "from tensorflow.keras.applications.nasnet import NASNetLarge,preprocess_input as nasnet_preprocess\n",
    "from tensorflow.keras.layers import BatchNormalization,Dense,GlobalAveragePooling2D,Lambda,Dropout,InputLayer,Input\n",
    "from tensorflow.keras.layers import concatenate\n",
    "from tensorflow.keras.models import Model"
   ]
  },
  {
   "cell_type": "code",
   "execution_count": 13,
   "id": "1ce1ba97",
   "metadata": {},
   "outputs": [],
   "source": [
    "# Setting the shapes of input for using pre-trained model\n",
    "\n",
    "input_shape=(224,224,3)\n",
    "input_layer=Input(shape=(input_shape))"
   ]
  },
  {
   "cell_type": "code",
   "execution_count": 14,
   "id": "19aa95b2",
   "metadata": {},
   "outputs": [],
   "source": [
    "# Model Buiulding\n",
    "\n",
    "# Inception_ResNet model\n",
    "preprocess_resnet=Lambda(resnet_preprocess)(input_layer)\n",
    "inception_resnet=InceptionResNetV2(weights='imagenet',include_top=False,\n",
    "                                   input_shape=input_shape,pooling='avg')(preprocess_resnet)\n",
    "\n",
    "\n",
    "# InceptionV3 model\n",
    "preprocessor_inception=Lambda(inception_preprocess)(input_layer)\n",
    "inception_v3=InceptionV3(weights='imagenet',include_top=False,\n",
    "                                   input_shape=input_shape,pooling='avg')(preprocessor_inception)\n",
    "\n",
    "\n",
    "# Xception model\n",
    "preprocessor_xception=Lambda(xception_preprocess)(input_layer)\n",
    "xception=Xception(weights='imagenet',include_top=False,\n",
    "                                   input_shape=input_shape,pooling='avg')(preprocessor_xception)\n",
    "\n",
    "\n",
    "# NASNetLarge model\n",
    "preprocessor_nasnet=Lambda(nasnet_preprocess)(input_layer)\n",
    "nasnet=NASNetLarge(weights='imagenet',include_top=False,\n",
    "                                   input_shape=input_shape,pooling='avg')(preprocessor_nasnet)"
   ]
  },
  {
   "cell_type": "code",
   "execution_count": 15,
   "id": "286350c7",
   "metadata": {},
   "outputs": [
    {
     "name": "stdout",
     "output_type": "stream",
     "text": [
      "Model: \"model\"\n",
      "__________________________________________________________________________________________________\n",
      " Layer (type)                Output Shape                 Param #   Connected to                  \n",
      "==================================================================================================\n",
      " input_1 (InputLayer)        [(None, 224, 224, 3)]        0         []                            \n",
      "                                                                                                  \n",
      " lambda (Lambda)             (None, 224, 224, 3)          0         ['input_1[0][0]']             \n",
      "                                                                                                  \n",
      " lambda_1 (Lambda)           (None, 224, 224, 3)          0         ['input_1[0][0]']             \n",
      "                                                                                                  \n",
      " lambda_2 (Lambda)           (None, 224, 224, 3)          0         ['input_1[0][0]']             \n",
      "                                                                                                  \n",
      " lambda_3 (Lambda)           (None, 224, 224, 3)          0         ['input_1[0][0]']             \n",
      "                                                                                                  \n",
      " inception_resnet_v2 (Funct  (None, 1536)                 5433673   ['lambda[0][0]']              \n",
      " ional)                                                   6                                       \n",
      "                                                                                                  \n",
      " inception_v3 (Functional)   (None, 2048)                 2180278   ['lambda_1[0][0]']            \n",
      "                                                          4                                       \n",
      "                                                                                                  \n",
      " xception (Functional)       (None, 2048)                 2086148   ['lambda_2[0][0]']            \n",
      "                                                          0                                       \n",
      "                                                                                                  \n",
      " NASNet (Functional)         (None, 4032)                 8491681   ['lambda_3[0][0]']            \n",
      "                                                          8                                       \n",
      "                                                                                                  \n",
      " concatenate_6 (Concatenate  (None, 9664)                 0         ['inception_resnet_v2[0][0]', \n",
      " )                                                                   'inception_v3[0][0]',        \n",
      "                                                                     'xception[0][0]',            \n",
      "                                                                     'NASNet[0][0]']              \n",
      "                                                                                                  \n",
      "==================================================================================================\n",
      "Total params: 181917818 (693.96 MB)\n",
      "Trainable params: 181571646 (692.64 MB)\n",
      "Non-trainable params: 346172 (1.32 MB)\n",
      "__________________________________________________________________________________________________\n"
     ]
    }
   ],
   "source": [
    "# Mergining 4 models all together for predicting and extracting the features\n",
    "\n",
    "merge=concatenate([inception_resnet,inception_v3,xception,nasnet])\n",
    "model=Model(inputs=input_layer,outputs=merge)\n",
    "\n",
    "model.summary()"
   ]
  },
  {
   "cell_type": "code",
   "execution_count": 46,
   "id": "f3d551fc",
   "metadata": {},
   "outputs": [],
   "source": [
    "model.compile(optimizer=tf.keras.optimizers.Adam(), loss='categorical_crossentropy', metrics=['accuracy'])"
   ]
  },
  {
   "cell_type": "code",
   "execution_count": 16,
   "id": "b10ff804",
   "metadata": {},
   "outputs": [
    {
     "name": "stdout",
     "output_type": "stream",
     "text": [
      "(None, 224, 224, 3)\n",
      "(None, 9664)\n",
      "1846\n"
     ]
    }
   ],
   "source": [
    "print(model.input.shape)\n",
    "print(model.output.shape)\n",
    "print(len(model.trainable_weights))"
   ]
  },
  {
   "cell_type": "code",
   "execution_count": 17,
   "id": "50b60684",
   "metadata": {},
   "outputs": [
    {
     "data": {
      "text/html": [
       "<div>\n",
       "<style scoped>\n",
       "    .dataframe tbody tr th:only-of-type {\n",
       "        vertical-align: middle;\n",
       "    }\n",
       "\n",
       "    .dataframe tbody tr th {\n",
       "        vertical-align: top;\n",
       "    }\n",
       "\n",
       "    .dataframe thead th {\n",
       "        text-align: right;\n",
       "    }\n",
       "</style>\n",
       "<table border=\"1\" class=\"dataframe\">\n",
       "  <thead>\n",
       "    <tr style=\"text-align: right;\">\n",
       "      <th></th>\n",
       "      <th>image_id</th>\n",
       "      <th>filename</th>\n",
       "      <th>label</th>\n",
       "      <th>file_path</th>\n",
       "    </tr>\n",
       "  </thead>\n",
       "  <tbody>\n",
       "    <tr>\n",
       "      <th>0</th>\n",
       "      <td>1</td>\n",
       "      <td>1.jpg</td>\n",
       "      <td>2</td>\n",
       "      <td>E:/Data Science/Damaged Vehicle Classification...</td>\n",
       "    </tr>\n",
       "    <tr>\n",
       "      <th>1</th>\n",
       "      <td>2</td>\n",
       "      <td>2.jpg</td>\n",
       "      <td>4</td>\n",
       "      <td>E:/Data Science/Damaged Vehicle Classification...</td>\n",
       "    </tr>\n",
       "    <tr>\n",
       "      <th>2</th>\n",
       "      <td>3</td>\n",
       "      <td>3.jpg</td>\n",
       "      <td>2</td>\n",
       "      <td>E:/Data Science/Damaged Vehicle Classification...</td>\n",
       "    </tr>\n",
       "    <tr>\n",
       "      <th>3</th>\n",
       "      <td>4</td>\n",
       "      <td>4.jpg</td>\n",
       "      <td>3</td>\n",
       "      <td>E:/Data Science/Damaged Vehicle Classification...</td>\n",
       "    </tr>\n",
       "    <tr>\n",
       "      <th>4</th>\n",
       "      <td>5</td>\n",
       "      <td>5.jpg</td>\n",
       "      <td>5</td>\n",
       "      <td>E:/Data Science/Damaged Vehicle Classification...</td>\n",
       "    </tr>\n",
       "  </tbody>\n",
       "</table>\n",
       "</div>"
      ],
      "text/plain": [
       "   image_id filename  label                                          file_path\n",
       "0         1    1.jpg      2  E:/Data Science/Damaged Vehicle Classification...\n",
       "1         2    2.jpg      4  E:/Data Science/Damaged Vehicle Classification...\n",
       "2         3    3.jpg      2  E:/Data Science/Damaged Vehicle Classification...\n",
       "3         4    4.jpg      3  E:/Data Science/Damaged Vehicle Classification...\n",
       "4         5    5.jpg      5  E:/Data Science/Damaged Vehicle Classification..."
      ]
     },
     "execution_count": 17,
     "metadata": {},
     "output_type": "execute_result"
    }
   ],
   "source": [
    "# Adding all the train image paths under filename\n",
    "\n",
    "data['file_path']=data['image_id'].apply(lambda x: 'E:/Data Science/Damaged Vehicle Classification/train'+'/'+f\"{x}.jpg\")\n",
    "data.head()"
   ]
  },
  {
   "cell_type": "code",
   "execution_count": 31,
   "id": "7abef7b6",
   "metadata": {},
   "outputs": [],
   "source": [
    "# Feature extraction using pre-trained model\n",
    "\n",
    "from tensorflow.keras.preprocessing.image import ImageDataGenerator\n",
    "from tqdm import tqdm\n",
    "\n",
    "def feature_extractor(df):\n",
    "    img_size = (224,224,3)\n",
    "    data_size = len(df)\n",
    "    batch_size = 32     # Random value, can be varied as per the requirement\n",
    "    x = np.zeros([data_size,9664]) # Output layer of the merged model has 9664 classes\n",
    "\n",
    "    # Extracting the features of all the images which was saved under file_name in the dataframe(labels)\n",
    "    datagen = ImageDataGenerator()\n",
    "    generator = datagen.flow_from_dataframe(df,x_col = 'file_path', class_mode = None, batch_size=batch_size, \n",
    "                                            shuffle = False,target_size = (img_size[:2]),color_mode = 'rgb')    \n",
    "    \n",
    "    i = 0\n",
    "    \n",
    "    for input_batch in tqdm(generator):\n",
    "        input_batch = model.predict(input_batch)\n",
    "        x[i * batch_size : (i + 1) * batch_size] = input_batch # Based on the batch size the predicted output(input_batch) is stored in batches in 'x'\n",
    "        i += 1\n",
    "        if i * batch_size >= data_size:    # Stop when it reaches the last row(10222) in the dataframe\n",
    "            break\n",
    "    return x # Returning the extracted features"
   ]
  },
  {
   "cell_type": "code",
   "execution_count": 19,
   "id": "b736ca05",
   "metadata": {},
   "outputs": [
    {
     "name": "stdout",
     "output_type": "stream",
     "text": [
      "Found 0 validated image filenames.\n"
     ]
    },
    {
     "name": "stderr",
     "output_type": "stream",
     "text": [
      "C:\\Anaconda\\lib\\site-packages\\keras\\src\\preprocessing\\image.py:1137: UserWarning: Found 7200 invalid image filename(s) in x_col=\"file_path\". These filename(s) will be ignored.\n",
      "  warnings.warn(\n",
      "0it [00:00, ?it/s]\n"
     ]
    },
    {
     "ename": "ValueError",
     "evalue": "Unexpected result of `predict_function` (Empty batch_outputs). Please use `Model.compile(..., run_eagerly=True)`, or `tf.config.run_functions_eagerly(True)` for more information of where went wrong, or file a issue/bug to `tf.keras`.",
     "output_type": "error",
     "traceback": [
      "\u001b[1;31m---------------------------------------------------------------------------\u001b[0m",
      "\u001b[1;31mValueError\u001b[0m                                Traceback (most recent call last)",
      "\u001b[1;32m<ipython-input-19-c4773f544d1a>\u001b[0m in \u001b[0;36m<module>\u001b[1;34m\u001b[0m\n\u001b[0;32m      1\u001b[0m \u001b[1;31m# Extracting the features to be applied for model training\u001b[0m\u001b[1;33m\u001b[0m\u001b[1;33m\u001b[0m\u001b[1;33m\u001b[0m\u001b[0m\n\u001b[1;32m----> 2\u001b[1;33m \u001b[0mX\u001b[0m \u001b[1;33m=\u001b[0m \u001b[0mfeature_extractor\u001b[0m\u001b[1;33m(\u001b[0m\u001b[0mdata\u001b[0m\u001b[1;33m)\u001b[0m\u001b[1;33m\u001b[0m\u001b[1;33m\u001b[0m\u001b[0m\n\u001b[0m",
      "\u001b[1;32m<ipython-input-18-996493302440>\u001b[0m in \u001b[0;36mfeature_extractor\u001b[1;34m(df)\u001b[0m\n\u001b[0;32m     18\u001b[0m \u001b[1;33m\u001b[0m\u001b[0m\n\u001b[0;32m     19\u001b[0m     \u001b[1;32mfor\u001b[0m \u001b[0minput_batch\u001b[0m \u001b[1;32min\u001b[0m \u001b[0mtqdm\u001b[0m\u001b[1;33m(\u001b[0m\u001b[0mgenerator\u001b[0m\u001b[1;33m)\u001b[0m\u001b[1;33m:\u001b[0m\u001b[1;33m\u001b[0m\u001b[1;33m\u001b[0m\u001b[0m\n\u001b[1;32m---> 20\u001b[1;33m         \u001b[0minput_batch\u001b[0m \u001b[1;33m=\u001b[0m \u001b[0mmodel\u001b[0m\u001b[1;33m.\u001b[0m\u001b[0mpredict\u001b[0m\u001b[1;33m(\u001b[0m\u001b[0minput_batch\u001b[0m\u001b[1;33m)\u001b[0m\u001b[1;33m\u001b[0m\u001b[1;33m\u001b[0m\u001b[0m\n\u001b[0m\u001b[0;32m     21\u001b[0m         \u001b[0mx\u001b[0m\u001b[1;33m[\u001b[0m\u001b[0mi\u001b[0m \u001b[1;33m*\u001b[0m \u001b[0mbatch_size\u001b[0m \u001b[1;33m:\u001b[0m \u001b[1;33m(\u001b[0m\u001b[0mi\u001b[0m \u001b[1;33m+\u001b[0m \u001b[1;36m1\u001b[0m\u001b[1;33m)\u001b[0m \u001b[1;33m*\u001b[0m \u001b[0mbatch_size\u001b[0m\u001b[1;33m]\u001b[0m \u001b[1;33m=\u001b[0m \u001b[0minput_batch\u001b[0m \u001b[1;31m# Based on the batch size the predicted output(input_batch) is stored in batches in 'x'\u001b[0m\u001b[1;33m\u001b[0m\u001b[1;33m\u001b[0m\u001b[0m\n\u001b[0;32m     22\u001b[0m         \u001b[0mi\u001b[0m \u001b[1;33m+=\u001b[0m \u001b[1;36m1\u001b[0m\u001b[1;33m\u001b[0m\u001b[1;33m\u001b[0m\u001b[0m\n",
      "\u001b[1;32mC:\\Anaconda\\lib\\site-packages\\keras\\src\\utils\\traceback_utils.py\u001b[0m in \u001b[0;36merror_handler\u001b[1;34m(*args, **kwargs)\u001b[0m\n\u001b[0;32m     68\u001b[0m             \u001b[1;31m# To get the full stack trace, call:\u001b[0m\u001b[1;33m\u001b[0m\u001b[1;33m\u001b[0m\u001b[1;33m\u001b[0m\u001b[0m\n\u001b[0;32m     69\u001b[0m             \u001b[1;31m# `tf.debugging.disable_traceback_filtering()`\u001b[0m\u001b[1;33m\u001b[0m\u001b[1;33m\u001b[0m\u001b[1;33m\u001b[0m\u001b[0m\n\u001b[1;32m---> 70\u001b[1;33m             \u001b[1;32mraise\u001b[0m \u001b[0me\u001b[0m\u001b[1;33m.\u001b[0m\u001b[0mwith_traceback\u001b[0m\u001b[1;33m(\u001b[0m\u001b[0mfiltered_tb\u001b[0m\u001b[1;33m)\u001b[0m \u001b[1;32mfrom\u001b[0m \u001b[1;32mNone\u001b[0m\u001b[1;33m\u001b[0m\u001b[1;33m\u001b[0m\u001b[0m\n\u001b[0m\u001b[0;32m     71\u001b[0m         \u001b[1;32mfinally\u001b[0m\u001b[1;33m:\u001b[0m\u001b[1;33m\u001b[0m\u001b[1;33m\u001b[0m\u001b[0m\n\u001b[0;32m     72\u001b[0m             \u001b[1;32mdel\u001b[0m \u001b[0mfiltered_tb\u001b[0m\u001b[1;33m\u001b[0m\u001b[1;33m\u001b[0m\u001b[0m\n",
      "\u001b[1;32mC:\\Anaconda\\lib\\site-packages\\keras\\src\\engine\\training.py\u001b[0m in \u001b[0;36mpredict\u001b[1;34m(self, x, batch_size, verbose, steps, callbacks, max_queue_size, workers, use_multiprocessing)\u001b[0m\n\u001b[0;32m   2577\u001b[0m                         )\n\u001b[0;32m   2578\u001b[0m             \u001b[1;32mif\u001b[0m \u001b[0mbatch_outputs\u001b[0m \u001b[1;32mis\u001b[0m \u001b[1;32mNone\u001b[0m\u001b[1;33m:\u001b[0m\u001b[1;33m\u001b[0m\u001b[1;33m\u001b[0m\u001b[0m\n\u001b[1;32m-> 2579\u001b[1;33m                 raise ValueError(\n\u001b[0m\u001b[0;32m   2580\u001b[0m                     \u001b[1;34m\"Unexpected result of `predict_function` \"\u001b[0m\u001b[1;33m\u001b[0m\u001b[1;33m\u001b[0m\u001b[0m\n\u001b[0;32m   2581\u001b[0m                     \u001b[1;34m\"(Empty batch_outputs). Please use \"\u001b[0m\u001b[1;33m\u001b[0m\u001b[1;33m\u001b[0m\u001b[0m\n",
      "\u001b[1;31mValueError\u001b[0m: Unexpected result of `predict_function` (Empty batch_outputs). Please use `Model.compile(..., run_eagerly=True)`, or `tf.config.run_functions_eagerly(True)` for more information of where went wrong, or file a issue/bug to `tf.keras`."
     ]
    }
   ],
   "source": [
    "# Extracting the features to be applied for model training\n",
    "X = feature_extractor(data)"
   ]
  },
  {
   "cell_type": "code",
   "execution_count": null,
   "id": "41fc7109",
   "metadata": {},
   "outputs": [],
   "source": [
    "# label encoding the target variable 'breed'Adam\n",
    "\n",
    "from sklearn.preprocessing import LabelEncoder\n",
    "label_encoder = LabelEncoder()\n",
    "integer_encoded = label_encoder.fit_transform(data['label'])\n",
    "print(integer_encoded)"
   ]
  },
  {
   "cell_type": "code",
   "execution_count": null,
   "id": "9a00f102",
   "metadata": {},
   "outputs": [],
   "source": [
    "# Converting encoded 'breed' feature to categorical columns\n",
    "\n",
    "y = tensorflow.keras.utils.to_categorical(integer_encoded, num_classes=None, dtype='int')\n",
    "y"
   ]
  },
  {
   "cell_type": "code",
   "execution_count": null,
   "id": "99d063a4",
   "metadata": {},
   "outputs": [],
   "source": [
    "# Setting up Early stopping and model checkpoint \n",
    "\n",
    "from tensorflow.keras.callbacks import EarlyStopping,ModelCheckpoint,ReduceLROnPlateau\n",
    "\n",
    "earlystop=EarlyStopping(monitor='val_loss',patience=20,restore_best_weights=True)\n",
    "checkpoint=ModelCheckpoint('checkpoint',monitor='val_loss',mode='min',save_best_only=True)\n",
    "lr=ReduceLROnPlateau(monitor='val_loss',factor=0.5,patience=3,min_lr=1e-6)\n",
    "my_callback=[earlystop,checkpoint,lr]"
   ]
  },
  {
   "cell_type": "code",
   "execution_count": null,
   "id": "70f066de",
   "metadata": {},
   "outputs": [],
   "source": [
    "# Model defenition and compilation\n",
    "\n",
    "model_merged =tensorflow.keras.models.Sequential([InputLayer(X.shape[1:]),\n",
    "                                          Dropout(0.7),\n",
    "                                          Dense(120,activation='softmax')])\n",
    "\n",
    "model_merged.compile(optimizer='adam',loss='categorical_crossentropy',metrics=['accuracy'])"
   ]
  },
  {
   "cell_type": "code",
   "execution_count": null,
   "id": "eb44d74b",
   "metadata": {},
   "outputs": [],
   "source": [
    "# Model Fitting\n",
    "\n",
    "model_history = model_merged.fit(X,y,batch_size=120,epochs=100,validation_split=0.20,callbacks=my_callback)"
   ]
  },
  {
   "cell_type": "code",
   "execution_count": 60,
   "id": "0d55b735",
   "metadata": {},
   "outputs": [
    {
     "data": {
      "text/plain": [
       "7200"
      ]
     },
     "execution_count": 60,
     "metadata": {},
     "output_type": "execute_result"
    }
   ],
   "source": [
    "len(data)"
   ]
  },
  {
   "cell_type": "code",
   "execution_count": 21,
   "id": "f9f51cbf",
   "metadata": {},
   "outputs": [
    {
     "data": {
      "text/plain": [
       "(200,)"
      ]
     },
     "execution_count": 21,
     "metadata": {},
     "output_type": "execute_result"
    }
   ],
   "source": [
    "np.arange(0, 1000, 5).shape"
   ]
  },
  {
   "cell_type": "code",
   "execution_count": 25,
   "id": "be906be9",
   "metadata": {},
   "outputs": [
    {
     "data": {
      "text/plain": [
       "(200, 1)"
      ]
     },
     "execution_count": 25,
     "metadata": {},
     "output_type": "execute_result"
    }
   ],
   "source": [
    "np.expand_dims(np.arange(0, 1000, 5),axis=1).shape"
   ]
  },
  {
   "cell_type": "code",
   "execution_count": 26,
   "id": "f6e010a1",
   "metadata": {},
   "outputs": [],
   "source": [
    "img_size = (224,224,3)\n",
    "data_size = len(df)\n",
    "batch_size = 32     # Random value, can be varied as per the requirement\n",
    "x = np.zeros([data_size,9664])"
   ]
  },
  {
   "cell_type": "code",
   "execution_count": 29,
   "id": "e93e946c",
   "metadata": {},
   "outputs": [
    {
     "data": {
      "text/plain": [
       "7200"
      ]
     },
     "execution_count": 29,
     "metadata": {},
     "output_type": "execute_result"
    }
   ],
   "source": [
    "len(x)"
   ]
  },
  {
   "cell_type": "code",
   "execution_count": 32,
   "id": "4d198da5",
   "metadata": {},
   "outputs": [
    {
     "ename": "TypeError",
     "evalue": "All values in column x_col=image must be strings.",
     "output_type": "error",
     "traceback": [
      "\u001b[1;31m---------------------------------------------------------------------------\u001b[0m",
      "\u001b[1;31mTypeError\u001b[0m                                 Traceback (most recent call last)",
      "\u001b[1;32m<ipython-input-32-5182bb23db37>\u001b[0m in \u001b[0;36m<module>\u001b[1;34m\u001b[0m\n\u001b[1;32m----> 1\u001b[1;33m \u001b[0mt\u001b[0m \u001b[1;33m=\u001b[0m\u001b[0mfeature_extractor\u001b[0m\u001b[1;33m(\u001b[0m\u001b[0mdf\u001b[0m\u001b[1;33m)\u001b[0m\u001b[1;33m\u001b[0m\u001b[1;33m\u001b[0m\u001b[0m\n\u001b[0m",
      "\u001b[1;32m<ipython-input-31-3f65ae51716f>\u001b[0m in \u001b[0;36mfeature_extractor\u001b[1;34m(df)\u001b[0m\n\u001b[0;32m     12\u001b[0m     \u001b[1;31m# Extracting the features of all the images which was saved under file_name in the dataframe(labels)\u001b[0m\u001b[1;33m\u001b[0m\u001b[1;33m\u001b[0m\u001b[1;33m\u001b[0m\u001b[0m\n\u001b[0;32m     13\u001b[0m     \u001b[0mdatagen\u001b[0m \u001b[1;33m=\u001b[0m \u001b[0mImageDataGenerator\u001b[0m\u001b[1;33m(\u001b[0m\u001b[1;33m)\u001b[0m\u001b[1;33m\u001b[0m\u001b[1;33m\u001b[0m\u001b[0m\n\u001b[1;32m---> 14\u001b[1;33m     generator = datagen.flow_from_dataframe(df,x_col = 'image', class_mode = None, batch_size=batch_size, \n\u001b[0m\u001b[0;32m     15\u001b[0m                                             shuffle = False,target_size = (img_size[:2]),color_mode = 'rgb')    \n\u001b[0;32m     16\u001b[0m \u001b[1;33m\u001b[0m\u001b[0m\n",
      "\u001b[1;32mC:\\Anaconda\\lib\\site-packages\\keras\\src\\preprocessing\\image.py\u001b[0m in \u001b[0;36mflow_from_dataframe\u001b[1;34m(self, dataframe, directory, x_col, y_col, weight_col, target_size, color_mode, classes, class_mode, batch_size, shuffle, seed, save_to_dir, save_prefix, save_format, subset, interpolation, validate_filenames, **kwargs)\u001b[0m\n\u001b[0;32m   1804\u001b[0m             )\n\u001b[0;32m   1805\u001b[0m \u001b[1;33m\u001b[0m\u001b[0m\n\u001b[1;32m-> 1806\u001b[1;33m         return DataFrameIterator(\n\u001b[0m\u001b[0;32m   1807\u001b[0m             \u001b[0mdataframe\u001b[0m\u001b[1;33m,\u001b[0m\u001b[1;33m\u001b[0m\u001b[1;33m\u001b[0m\u001b[0m\n\u001b[0;32m   1808\u001b[0m             \u001b[0mdirectory\u001b[0m\u001b[1;33m,\u001b[0m\u001b[1;33m\u001b[0m\u001b[1;33m\u001b[0m\u001b[0m\n",
      "\u001b[1;32mC:\\Anaconda\\lib\\site-packages\\keras\\src\\preprocessing\\image.py\u001b[0m in \u001b[0;36m__init__\u001b[1;34m(self, dataframe, directory, image_data_generator, x_col, y_col, weight_col, target_size, color_mode, classes, class_mode, batch_size, shuffle, seed, data_format, save_to_dir, save_prefix, save_format, subset, interpolation, keep_aspect_ratio, dtype, validate_filenames)\u001b[0m\n\u001b[0;32m    966\u001b[0m         \u001b[0mself\u001b[0m\u001b[1;33m.\u001b[0m\u001b[0mdtype\u001b[0m \u001b[1;33m=\u001b[0m \u001b[0mdtype\u001b[0m\u001b[1;33m\u001b[0m\u001b[1;33m\u001b[0m\u001b[0m\n\u001b[0;32m    967\u001b[0m         \u001b[1;31m# check that inputs match the required class_mode\u001b[0m\u001b[1;33m\u001b[0m\u001b[1;33m\u001b[0m\u001b[1;33m\u001b[0m\u001b[0m\n\u001b[1;32m--> 968\u001b[1;33m         \u001b[0mself\u001b[0m\u001b[1;33m.\u001b[0m\u001b[0m_check_params\u001b[0m\u001b[1;33m(\u001b[0m\u001b[0mdf\u001b[0m\u001b[1;33m,\u001b[0m \u001b[0mx_col\u001b[0m\u001b[1;33m,\u001b[0m \u001b[0my_col\u001b[0m\u001b[1;33m,\u001b[0m \u001b[0mweight_col\u001b[0m\u001b[1;33m,\u001b[0m \u001b[0mclasses\u001b[0m\u001b[1;33m)\u001b[0m\u001b[1;33m\u001b[0m\u001b[1;33m\u001b[0m\u001b[0m\n\u001b[0m\u001b[0;32m    969\u001b[0m         if (\n\u001b[0;32m    970\u001b[0m             \u001b[0mvalidate_filenames\u001b[0m\u001b[1;33m\u001b[0m\u001b[1;33m\u001b[0m\u001b[0m\n",
      "\u001b[1;32mC:\\Anaconda\\lib\\site-packages\\keras\\src\\preprocessing\\image.py\u001b[0m in \u001b[0;36m_check_params\u001b[1;34m(self, df, x_col, y_col, weight_col, classes)\u001b[0m\n\u001b[0;32m   1028\u001b[0m         \u001b[1;31m# check that filenames/filepaths column values are all strings\u001b[0m\u001b[1;33m\u001b[0m\u001b[1;33m\u001b[0m\u001b[1;33m\u001b[0m\u001b[0m\n\u001b[0;32m   1029\u001b[0m         \u001b[1;32mif\u001b[0m \u001b[1;32mnot\u001b[0m \u001b[0mall\u001b[0m\u001b[1;33m(\u001b[0m\u001b[0mdf\u001b[0m\u001b[1;33m[\u001b[0m\u001b[0mx_col\u001b[0m\u001b[1;33m]\u001b[0m\u001b[1;33m.\u001b[0m\u001b[0mapply\u001b[0m\u001b[1;33m(\u001b[0m\u001b[1;32mlambda\u001b[0m \u001b[0mx\u001b[0m\u001b[1;33m:\u001b[0m \u001b[0misinstance\u001b[0m\u001b[1;33m(\u001b[0m\u001b[0mx\u001b[0m\u001b[1;33m,\u001b[0m \u001b[0mstr\u001b[0m\u001b[1;33m)\u001b[0m\u001b[1;33m)\u001b[0m\u001b[1;33m)\u001b[0m\u001b[1;33m:\u001b[0m\u001b[1;33m\u001b[0m\u001b[1;33m\u001b[0m\u001b[0m\n\u001b[1;32m-> 1030\u001b[1;33m             raise TypeError(\n\u001b[0m\u001b[0;32m   1031\u001b[0m                 \u001b[1;34mf\"All values in column x_col={x_col} must be strings.\"\u001b[0m\u001b[1;33m\u001b[0m\u001b[1;33m\u001b[0m\u001b[0m\n\u001b[0;32m   1032\u001b[0m             )\n",
      "\u001b[1;31mTypeError\u001b[0m: All values in column x_col=image must be strings."
     ]
    }
   ],
   "source": [
    "t =feature_extractor(df)"
   ]
  },
  {
   "cell_type": "code",
   "execution_count": null,
   "id": "492e3890",
   "metadata": {},
   "outputs": [],
   "source": [
    "datagen = ImageDataGenerator()\n",
    "    generator = datagen.flow_from_dataframe(df,x_col = 'file_path', class_mode = None, batch_size=batch_size, \n",
    "                                            shuffle = False,target_size = (img_size[:2]),color_mode = 'rgb')    \n",
    "    \n",
    "    i = 0\n",
    "    \n",
    "    for input_batch in tqdm(generator):\n",
    "        input_batch = model.predict(input_batch)\n",
    "        x[i * batch_size : (i + 1) * batch_size] = input_batch # Based on the batch size the predicted output(input_batch) is stored in batches in 'x'\n",
    "        i += 1\n",
    "        if i * batch_size >= data_size:    # Stop when it reaches the last row(10222) in the dataframe\n",
    "            break\n",
    "    return x # Returning the extracted features"
   ]
  },
  {
   "cell_type": "code",
   "execution_count": 33,
   "id": "8e1d35a8",
   "metadata": {},
   "outputs": [
    {
     "name": "stdout",
     "output_type": "stream",
     "text": [
      "  8/225 [>.............................] - ETA: 1:18:01"
     ]
    },
    {
     "ename": "KeyboardInterrupt",
     "evalue": "",
     "output_type": "error",
     "traceback": [
      "\u001b[1;31m---------------------------------------------------------------------------\u001b[0m",
      "\u001b[1;31mKeyboardInterrupt\u001b[0m                         Traceback (most recent call last)",
      "\u001b[1;32m<ipython-input-33-b09cdb433cc5>\u001b[0m in \u001b[0;36m<module>\u001b[1;34m\u001b[0m\n\u001b[1;32m----> 1\u001b[1;33m \u001b[0mmodel\u001b[0m\u001b[1;33m.\u001b[0m\u001b[0mpredict\u001b[0m\u001b[1;33m(\u001b[0m\u001b[0mx_train\u001b[0m\u001b[1;33m)\u001b[0m\u001b[1;33m\u001b[0m\u001b[1;33m\u001b[0m\u001b[0m\n\u001b[0m",
      "\u001b[1;32mC:\\Anaconda\\lib\\site-packages\\keras\\src\\utils\\traceback_utils.py\u001b[0m in \u001b[0;36merror_handler\u001b[1;34m(*args, **kwargs)\u001b[0m\n\u001b[0;32m     63\u001b[0m         \u001b[0mfiltered_tb\u001b[0m \u001b[1;33m=\u001b[0m \u001b[1;32mNone\u001b[0m\u001b[1;33m\u001b[0m\u001b[1;33m\u001b[0m\u001b[0m\n\u001b[0;32m     64\u001b[0m         \u001b[1;32mtry\u001b[0m\u001b[1;33m:\u001b[0m\u001b[1;33m\u001b[0m\u001b[1;33m\u001b[0m\u001b[0m\n\u001b[1;32m---> 65\u001b[1;33m             \u001b[1;32mreturn\u001b[0m \u001b[0mfn\u001b[0m\u001b[1;33m(\u001b[0m\u001b[1;33m*\u001b[0m\u001b[0margs\u001b[0m\u001b[1;33m,\u001b[0m \u001b[1;33m**\u001b[0m\u001b[0mkwargs\u001b[0m\u001b[1;33m)\u001b[0m\u001b[1;33m\u001b[0m\u001b[1;33m\u001b[0m\u001b[0m\n\u001b[0m\u001b[0;32m     66\u001b[0m         \u001b[1;32mexcept\u001b[0m \u001b[0mException\u001b[0m \u001b[1;32mas\u001b[0m \u001b[0me\u001b[0m\u001b[1;33m:\u001b[0m\u001b[1;33m\u001b[0m\u001b[1;33m\u001b[0m\u001b[0m\n\u001b[0;32m     67\u001b[0m             \u001b[0mfiltered_tb\u001b[0m \u001b[1;33m=\u001b[0m \u001b[0m_process_traceback_frames\u001b[0m\u001b[1;33m(\u001b[0m\u001b[0me\u001b[0m\u001b[1;33m.\u001b[0m\u001b[0m__traceback__\u001b[0m\u001b[1;33m)\u001b[0m\u001b[1;33m\u001b[0m\u001b[1;33m\u001b[0m\u001b[0m\n",
      "\u001b[1;32mC:\\Anaconda\\lib\\site-packages\\keras\\src\\engine\\training.py\u001b[0m in \u001b[0;36mpredict\u001b[1;34m(self, x, batch_size, verbose, steps, callbacks, max_queue_size, workers, use_multiprocessing)\u001b[0m\n\u001b[0;32m   2552\u001b[0m                     \u001b[1;32mfor\u001b[0m \u001b[0mstep\u001b[0m \u001b[1;32min\u001b[0m \u001b[0mdata_handler\u001b[0m\u001b[1;33m.\u001b[0m\u001b[0msteps\u001b[0m\u001b[1;33m(\u001b[0m\u001b[1;33m)\u001b[0m\u001b[1;33m:\u001b[0m\u001b[1;33m\u001b[0m\u001b[1;33m\u001b[0m\u001b[0m\n\u001b[0;32m   2553\u001b[0m                         \u001b[0mcallbacks\u001b[0m\u001b[1;33m.\u001b[0m\u001b[0mon_predict_batch_begin\u001b[0m\u001b[1;33m(\u001b[0m\u001b[0mstep\u001b[0m\u001b[1;33m)\u001b[0m\u001b[1;33m\u001b[0m\u001b[1;33m\u001b[0m\u001b[0m\n\u001b[1;32m-> 2554\u001b[1;33m                         \u001b[0mtmp_batch_outputs\u001b[0m \u001b[1;33m=\u001b[0m \u001b[0mself\u001b[0m\u001b[1;33m.\u001b[0m\u001b[0mpredict_function\u001b[0m\u001b[1;33m(\u001b[0m\u001b[0miterator\u001b[0m\u001b[1;33m)\u001b[0m\u001b[1;33m\u001b[0m\u001b[1;33m\u001b[0m\u001b[0m\n\u001b[0m\u001b[0;32m   2555\u001b[0m                         \u001b[1;32mif\u001b[0m \u001b[0mdata_handler\u001b[0m\u001b[1;33m.\u001b[0m\u001b[0mshould_sync\u001b[0m\u001b[1;33m:\u001b[0m\u001b[1;33m\u001b[0m\u001b[1;33m\u001b[0m\u001b[0m\n\u001b[0;32m   2556\u001b[0m                             \u001b[0mcontext\u001b[0m\u001b[1;33m.\u001b[0m\u001b[0masync_wait\u001b[0m\u001b[1;33m(\u001b[0m\u001b[1;33m)\u001b[0m\u001b[1;33m\u001b[0m\u001b[1;33m\u001b[0m\u001b[0m\n",
      "\u001b[1;32mC:\\Anaconda\\lib\\site-packages\\tensorflow\\python\\util\\traceback_utils.py\u001b[0m in \u001b[0;36merror_handler\u001b[1;34m(*args, **kwargs)\u001b[0m\n\u001b[0;32m    148\u001b[0m     \u001b[0mfiltered_tb\u001b[0m \u001b[1;33m=\u001b[0m \u001b[1;32mNone\u001b[0m\u001b[1;33m\u001b[0m\u001b[1;33m\u001b[0m\u001b[0m\n\u001b[0;32m    149\u001b[0m     \u001b[1;32mtry\u001b[0m\u001b[1;33m:\u001b[0m\u001b[1;33m\u001b[0m\u001b[1;33m\u001b[0m\u001b[0m\n\u001b[1;32m--> 150\u001b[1;33m       \u001b[1;32mreturn\u001b[0m \u001b[0mfn\u001b[0m\u001b[1;33m(\u001b[0m\u001b[1;33m*\u001b[0m\u001b[0margs\u001b[0m\u001b[1;33m,\u001b[0m \u001b[1;33m**\u001b[0m\u001b[0mkwargs\u001b[0m\u001b[1;33m)\u001b[0m\u001b[1;33m\u001b[0m\u001b[1;33m\u001b[0m\u001b[0m\n\u001b[0m\u001b[0;32m    151\u001b[0m     \u001b[1;32mexcept\u001b[0m \u001b[0mException\u001b[0m \u001b[1;32mas\u001b[0m \u001b[0me\u001b[0m\u001b[1;33m:\u001b[0m\u001b[1;33m\u001b[0m\u001b[1;33m\u001b[0m\u001b[0m\n\u001b[0;32m    152\u001b[0m       \u001b[0mfiltered_tb\u001b[0m \u001b[1;33m=\u001b[0m \u001b[0m_process_traceback_frames\u001b[0m\u001b[1;33m(\u001b[0m\u001b[0me\u001b[0m\u001b[1;33m.\u001b[0m\u001b[0m__traceback__\u001b[0m\u001b[1;33m)\u001b[0m\u001b[1;33m\u001b[0m\u001b[1;33m\u001b[0m\u001b[0m\n",
      "\u001b[1;32mC:\\Anaconda\\lib\\site-packages\\tensorflow\\python\\eager\\polymorphic_function\\polymorphic_function.py\u001b[0m in \u001b[0;36m__call__\u001b[1;34m(self, *args, **kwds)\u001b[0m\n\u001b[0;32m    823\u001b[0m \u001b[1;33m\u001b[0m\u001b[0m\n\u001b[0;32m    824\u001b[0m       \u001b[1;32mwith\u001b[0m \u001b[0mOptionalXlaContext\u001b[0m\u001b[1;33m(\u001b[0m\u001b[0mself\u001b[0m\u001b[1;33m.\u001b[0m\u001b[0m_jit_compile\u001b[0m\u001b[1;33m)\u001b[0m\u001b[1;33m:\u001b[0m\u001b[1;33m\u001b[0m\u001b[1;33m\u001b[0m\u001b[0m\n\u001b[1;32m--> 825\u001b[1;33m         \u001b[0mresult\u001b[0m \u001b[1;33m=\u001b[0m \u001b[0mself\u001b[0m\u001b[1;33m.\u001b[0m\u001b[0m_call\u001b[0m\u001b[1;33m(\u001b[0m\u001b[1;33m*\u001b[0m\u001b[0margs\u001b[0m\u001b[1;33m,\u001b[0m \u001b[1;33m**\u001b[0m\u001b[0mkwds\u001b[0m\u001b[1;33m)\u001b[0m\u001b[1;33m\u001b[0m\u001b[1;33m\u001b[0m\u001b[0m\n\u001b[0m\u001b[0;32m    826\u001b[0m \u001b[1;33m\u001b[0m\u001b[0m\n\u001b[0;32m    827\u001b[0m       \u001b[0mnew_tracing_count\u001b[0m \u001b[1;33m=\u001b[0m \u001b[0mself\u001b[0m\u001b[1;33m.\u001b[0m\u001b[0mexperimental_get_tracing_count\u001b[0m\u001b[1;33m(\u001b[0m\u001b[1;33m)\u001b[0m\u001b[1;33m\u001b[0m\u001b[1;33m\u001b[0m\u001b[0m\n",
      "\u001b[1;32mC:\\Anaconda\\lib\\site-packages\\tensorflow\\python\\eager\\polymorphic_function\\polymorphic_function.py\u001b[0m in \u001b[0;36m_call\u001b[1;34m(self, *args, **kwds)\u001b[0m\n\u001b[0;32m    862\u001b[0m       \u001b[1;31m# In this case we have not created variables on the first call. So we can\u001b[0m\u001b[1;33m\u001b[0m\u001b[1;33m\u001b[0m\u001b[1;33m\u001b[0m\u001b[0m\n\u001b[0;32m    863\u001b[0m       \u001b[1;31m# run the first trace but we should fail if variables are created.\u001b[0m\u001b[1;33m\u001b[0m\u001b[1;33m\u001b[0m\u001b[1;33m\u001b[0m\u001b[0m\n\u001b[1;32m--> 864\u001b[1;33m       \u001b[0mresults\u001b[0m \u001b[1;33m=\u001b[0m \u001b[0mself\u001b[0m\u001b[1;33m.\u001b[0m\u001b[0m_variable_creation_fn\u001b[0m\u001b[1;33m(\u001b[0m\u001b[1;33m*\u001b[0m\u001b[0margs\u001b[0m\u001b[1;33m,\u001b[0m \u001b[1;33m**\u001b[0m\u001b[0mkwds\u001b[0m\u001b[1;33m)\u001b[0m\u001b[1;33m\u001b[0m\u001b[1;33m\u001b[0m\u001b[0m\n\u001b[0m\u001b[0;32m    865\u001b[0m       \u001b[1;32mif\u001b[0m \u001b[0mself\u001b[0m\u001b[1;33m.\u001b[0m\u001b[0m_created_variables\u001b[0m \u001b[1;32mand\u001b[0m \u001b[1;32mnot\u001b[0m \u001b[0mALLOW_DYNAMIC_VARIABLE_CREATION\u001b[0m\u001b[1;33m:\u001b[0m\u001b[1;33m\u001b[0m\u001b[1;33m\u001b[0m\u001b[0m\n\u001b[0;32m    866\u001b[0m         raise ValueError(\"Creating variables on a non-first call to a function\"\n",
      "\u001b[1;32mC:\\Anaconda\\lib\\site-packages\\tensorflow\\python\\eager\\polymorphic_function\\tracing_compiler.py\u001b[0m in \u001b[0;36m__call__\u001b[1;34m(self, *args, **kwargs)\u001b[0m\n\u001b[0;32m    146\u001b[0m       (concrete_function,\n\u001b[0;32m    147\u001b[0m        filtered_flat_args) = self._maybe_define_function(args, kwargs)\n\u001b[1;32m--> 148\u001b[1;33m     return concrete_function._call_flat(\n\u001b[0m\u001b[0;32m    149\u001b[0m         filtered_flat_args, captured_inputs=concrete_function.captured_inputs)  # pylint: disable=protected-access\n\u001b[0;32m    150\u001b[0m \u001b[1;33m\u001b[0m\u001b[0m\n",
      "\u001b[1;32mC:\\Anaconda\\lib\\site-packages\\tensorflow\\python\\eager\\polymorphic_function\\monomorphic_function.py\u001b[0m in \u001b[0;36m_call_flat\u001b[1;34m(self, args, captured_inputs)\u001b[0m\n\u001b[0;32m   1347\u001b[0m         and executing_eagerly):\n\u001b[0;32m   1348\u001b[0m       \u001b[1;31m# No tape is watching; skip to running the function.\u001b[0m\u001b[1;33m\u001b[0m\u001b[1;33m\u001b[0m\u001b[1;33m\u001b[0m\u001b[0m\n\u001b[1;32m-> 1349\u001b[1;33m       \u001b[1;32mreturn\u001b[0m \u001b[0mself\u001b[0m\u001b[1;33m.\u001b[0m\u001b[0m_build_call_outputs\u001b[0m\u001b[1;33m(\u001b[0m\u001b[0mself\u001b[0m\u001b[1;33m.\u001b[0m\u001b[0m_inference_function\u001b[0m\u001b[1;33m(\u001b[0m\u001b[1;33m*\u001b[0m\u001b[0margs\u001b[0m\u001b[1;33m)\u001b[0m\u001b[1;33m)\u001b[0m\u001b[1;33m\u001b[0m\u001b[1;33m\u001b[0m\u001b[0m\n\u001b[0m\u001b[0;32m   1350\u001b[0m     forward_backward = self._select_forward_and_backward_functions(\n\u001b[0;32m   1351\u001b[0m         \u001b[0margs\u001b[0m\u001b[1;33m,\u001b[0m\u001b[1;33m\u001b[0m\u001b[1;33m\u001b[0m\u001b[0m\n",
      "\u001b[1;32mC:\\Anaconda\\lib\\site-packages\\tensorflow\\python\\eager\\polymorphic_function\\atomic_function.py\u001b[0m in \u001b[0;36m__call__\u001b[1;34m(self, *args)\u001b[0m\n\u001b[0;32m    194\u001b[0m         \u001b[1;32mwith\u001b[0m \u001b[0mrecord\u001b[0m\u001b[1;33m.\u001b[0m\u001b[0mstop_recording\u001b[0m\u001b[1;33m(\u001b[0m\u001b[1;33m)\u001b[0m\u001b[1;33m:\u001b[0m\u001b[1;33m\u001b[0m\u001b[1;33m\u001b[0m\u001b[0m\n\u001b[0;32m    195\u001b[0m           \u001b[1;32mif\u001b[0m \u001b[0mself\u001b[0m\u001b[1;33m.\u001b[0m\u001b[0m_bound_context\u001b[0m\u001b[1;33m.\u001b[0m\u001b[0mexecuting_eagerly\u001b[0m\u001b[1;33m(\u001b[0m\u001b[1;33m)\u001b[0m\u001b[1;33m:\u001b[0m\u001b[1;33m\u001b[0m\u001b[1;33m\u001b[0m\u001b[0m\n\u001b[1;32m--> 196\u001b[1;33m             outputs = self._bound_context.call_function(\n\u001b[0m\u001b[0;32m    197\u001b[0m                 \u001b[0mself\u001b[0m\u001b[1;33m.\u001b[0m\u001b[0mname\u001b[0m\u001b[1;33m,\u001b[0m\u001b[1;33m\u001b[0m\u001b[1;33m\u001b[0m\u001b[0m\n\u001b[0;32m    198\u001b[0m                 \u001b[0mlist\u001b[0m\u001b[1;33m(\u001b[0m\u001b[0margs\u001b[0m\u001b[1;33m)\u001b[0m\u001b[1;33m,\u001b[0m\u001b[1;33m\u001b[0m\u001b[1;33m\u001b[0m\u001b[0m\n",
      "\u001b[1;32mC:\\Anaconda\\lib\\site-packages\\tensorflow\\python\\eager\\context.py\u001b[0m in \u001b[0;36mcall_function\u001b[1;34m(self, name, tensor_inputs, num_outputs)\u001b[0m\n\u001b[0;32m   1455\u001b[0m     \u001b[0mcancellation_context\u001b[0m \u001b[1;33m=\u001b[0m \u001b[0mcancellation\u001b[0m\u001b[1;33m.\u001b[0m\u001b[0mcontext\u001b[0m\u001b[1;33m(\u001b[0m\u001b[1;33m)\u001b[0m\u001b[1;33m\u001b[0m\u001b[1;33m\u001b[0m\u001b[0m\n\u001b[0;32m   1456\u001b[0m     \u001b[1;32mif\u001b[0m \u001b[0mcancellation_context\u001b[0m \u001b[1;32mis\u001b[0m \u001b[1;32mNone\u001b[0m\u001b[1;33m:\u001b[0m\u001b[1;33m\u001b[0m\u001b[1;33m\u001b[0m\u001b[0m\n\u001b[1;32m-> 1457\u001b[1;33m       outputs = execute.execute(\n\u001b[0m\u001b[0;32m   1458\u001b[0m           \u001b[0mname\u001b[0m\u001b[1;33m.\u001b[0m\u001b[0mdecode\u001b[0m\u001b[1;33m(\u001b[0m\u001b[1;34m\"utf-8\"\u001b[0m\u001b[1;33m)\u001b[0m\u001b[1;33m,\u001b[0m\u001b[1;33m\u001b[0m\u001b[1;33m\u001b[0m\u001b[0m\n\u001b[0;32m   1459\u001b[0m           \u001b[0mnum_outputs\u001b[0m\u001b[1;33m=\u001b[0m\u001b[0mnum_outputs\u001b[0m\u001b[1;33m,\u001b[0m\u001b[1;33m\u001b[0m\u001b[1;33m\u001b[0m\u001b[0m\n",
      "\u001b[1;32mC:\\Anaconda\\lib\\site-packages\\tensorflow\\python\\eager\\execute.py\u001b[0m in \u001b[0;36mquick_execute\u001b[1;34m(op_name, num_outputs, inputs, attrs, ctx, name)\u001b[0m\n\u001b[0;32m     51\u001b[0m   \u001b[1;32mtry\u001b[0m\u001b[1;33m:\u001b[0m\u001b[1;33m\u001b[0m\u001b[1;33m\u001b[0m\u001b[0m\n\u001b[0;32m     52\u001b[0m     \u001b[0mctx\u001b[0m\u001b[1;33m.\u001b[0m\u001b[0mensure_initialized\u001b[0m\u001b[1;33m(\u001b[0m\u001b[1;33m)\u001b[0m\u001b[1;33m\u001b[0m\u001b[1;33m\u001b[0m\u001b[0m\n\u001b[1;32m---> 53\u001b[1;33m     tensors = pywrap_tfe.TFE_Py_Execute(ctx._handle, device_name, op_name,\n\u001b[0m\u001b[0;32m     54\u001b[0m                                         inputs, attrs, num_outputs)\n\u001b[0;32m     55\u001b[0m   \u001b[1;32mexcept\u001b[0m \u001b[0mcore\u001b[0m\u001b[1;33m.\u001b[0m\u001b[0m_NotOkStatusException\u001b[0m \u001b[1;32mas\u001b[0m \u001b[0me\u001b[0m\u001b[1;33m:\u001b[0m\u001b[1;33m\u001b[0m\u001b[1;33m\u001b[0m\u001b[0m\n",
      "\u001b[1;31mKeyboardInterrupt\u001b[0m: "
     ]
    }
   ],
   "source": [
    "model.predict(x_train)"
   ]
  },
  {
   "cell_type": "code",
   "execution_count": null,
   "id": "8e4e46d3",
   "metadata": {},
   "outputs": [],
   "source": []
  }
 ],
 "metadata": {
  "kernelspec": {
   "display_name": "Python 3",
   "language": "python",
   "name": "python3"
  },
  "language_info": {
   "codemirror_mode": {
    "name": "ipython",
    "version": 3
   },
   "file_extension": ".py",
   "mimetype": "text/x-python",
   "name": "python",
   "nbconvert_exporter": "python",
   "pygments_lexer": "ipython3",
   "version": "3.8.8"
  }
 },
 "nbformat": 4,
 "nbformat_minor": 5
}
