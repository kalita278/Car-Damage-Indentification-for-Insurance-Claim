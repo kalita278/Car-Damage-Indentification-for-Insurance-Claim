{
 "cells": [
  {
   "cell_type": "code",
   "execution_count": 1,
   "id": "9iFVqj8TEeS6",
   "metadata": {
    "colab": {
     "base_uri": "https://localhost:8080/"
    },
    "id": "9iFVqj8TEeS6",
    "outputId": "e562e1b4-f726-4e91-f0cf-670966cb59d7"
   },
   "outputs": [
    {
     "name": "stdout",
     "output_type": "stream",
     "text": [
      "Drive already mounted at /content/drive/; to attempt to forcibly remount, call drive.mount(\"/content/drive/\", force_remount=True).\n"
     ]
    }
   ],
   "source": [
    "from google.colab import drive\n",
    "drive.mount('/content/drive/')"
   ]
  },
  {
   "cell_type": "code",
   "execution_count": 1,
   "id": "1f411463",
   "metadata": {
    "id": "1f411463"
   },
   "outputs": [],
   "source": [
    "import numpy as np\n",
    "import pandas as pd\n",
    "import matplotlib.pyplot as plt\n",
    "import seaborn as sns\n",
    "import PIL\n",
    "import cv2\n",
    "import tensorflow as tf\n",
    "import os\n",
    "%matplotlib inline"
   ]
  },
  {
   "cell_type": "markdown",
   "id": "7cb4edd0",
   "metadata": {
    "id": "7cb4edd0"
   },
   "source": [
    "### Loading and preprocessing the training data"
   ]
  },
  {
   "cell_type": "code",
   "execution_count": 3,
   "id": "f97e4623",
   "metadata": {
    "colab": {
     "base_uri": "https://localhost:8080/",
     "height": 206
    },
    "id": "f97e4623",
    "outputId": "6ae5ea1f-2669-495f-ee68-d9d2a0afe4fe"
   },
   "outputs": [
    {
     "data": {
      "text/html": [
       "<div>\n",
       "<style scoped>\n",
       "    .dataframe tbody tr th:only-of-type {\n",
       "        vertical-align: middle;\n",
       "    }\n",
       "\n",
       "    .dataframe tbody tr th {\n",
       "        vertical-align: top;\n",
       "    }\n",
       "\n",
       "    .dataframe thead th {\n",
       "        text-align: right;\n",
       "    }\n",
       "</style>\n",
       "<table border=\"1\" class=\"dataframe\">\n",
       "  <thead>\n",
       "    <tr style=\"text-align: right;\">\n",
       "      <th></th>\n",
       "      <th>image_id</th>\n",
       "      <th>filename</th>\n",
       "      <th>label</th>\n",
       "      <th>image</th>\n",
       "    </tr>\n",
       "  </thead>\n",
       "  <tbody>\n",
       "    <tr>\n",
       "      <th>0</th>\n",
       "      <td>1</td>\n",
       "      <td>1.jpg</td>\n",
       "      <td>2</td>\n",
       "      <td>[[[234, 232, 232], [237, 237, 236], [245, 245,...</td>\n",
       "    </tr>\n",
       "    <tr>\n",
       "      <th>1</th>\n",
       "      <td>2</td>\n",
       "      <td>2.jpg</td>\n",
       "      <td>4</td>\n",
       "      <td>[[[5, 10, 155], [3, 8, 153], [11, 9, 162], [13...</td>\n",
       "    </tr>\n",
       "    <tr>\n",
       "      <th>2</th>\n",
       "      <td>3</td>\n",
       "      <td>3.jpg</td>\n",
       "      <td>2</td>\n",
       "      <td>[[[238, 238, 238], [209, 209, 209], [129, 131,...</td>\n",
       "    </tr>\n",
       "    <tr>\n",
       "      <th>3</th>\n",
       "      <td>4</td>\n",
       "      <td>4.jpg</td>\n",
       "      <td>3</td>\n",
       "      <td>[[[47, 21, 25], [49, 14, 19], [60, 30, 35], [5...</td>\n",
       "    </tr>\n",
       "    <tr>\n",
       "      <th>4</th>\n",
       "      <td>5</td>\n",
       "      <td>5.jpg</td>\n",
       "      <td>5</td>\n",
       "      <td>[[[193, 223, 238], [187, 207, 224], [205, 227,...</td>\n",
       "    </tr>\n",
       "  </tbody>\n",
       "</table>\n",
       "</div>"
      ],
      "text/plain": [
       "  image_id filename label                                              image\n",
       "0        1    1.jpg     2  [[[234, 232, 232], [237, 237, 236], [245, 245,...\n",
       "1        2    2.jpg     4  [[[5, 10, 155], [3, 8, 153], [11, 9, 162], [13...\n",
       "2        3    3.jpg     2  [[[238, 238, 238], [209, 209, 209], [129, 131,...\n",
       "3        4    4.jpg     3  [[[47, 21, 25], [49, 14, 19], [60, 30, 35], [5...\n",
       "4        5    5.jpg     5  [[[193, 223, 238], [187, 207, 224], [205, 227,..."
      ]
     },
     "execution_count": 3,
     "metadata": {},
     "output_type": "execute_result"
    }
   ],
   "source": [
    "# Define img_height, img_width\n",
    "img_height=164\n",
    "img_width=164\n",
    "\n",
    "#Loading the train.csv file and created and empty dataframe\n",
    "data = pd.read_csv(\"E:/Data Science/Damaged Vehicle Classification/train/train.csv\")\n",
    "df = pd.DataFrame(columns=['image_id','filename','label','image'])\n",
    "\n",
    "#Sorting the images\n",
    "file_path = \"E:/Data Science/Damaged Vehicle Classification/train/images\"\n",
    "sorted_image_list = list(os.listdir(file_path))\n",
    "sorted_image_list.sort(key=lambda f: int(''.join(filter(str.isdigit, f))))\n",
    "\n",
    "#Reading the pasting the images into the created dataframe\n",
    "for i, j in zip(sorted_image_list,range(len(os.listdir(file_path)))):\n",
    "    img = cv2.imread(os.path.join(file_path,i))\n",
    "    img = cv2.resize(img, (img_height, img_width))\n",
    "    df = df._append({'image_id':data['image_id'][j],'filename':data['filename'][j],'label':data['label'][j],'image':img},ignore_index=True)\n",
    "df.head()"
   ]
  },
  {
   "cell_type": "markdown",
   "id": "a7cc5a3c",
   "metadata": {
    "id": "a7cc5a3c"
   },
   "source": [
    "### Loading and preprocessing the test data"
   ]
  },
  {
   "cell_type": "code",
   "execution_count": 3,
   "id": "47ef39ec",
   "metadata": {
    "colab": {
     "background_save": true
    },
    "id": "47ef39ec",
    "outputId": "e2922f8b-ba41-459c-d7ce-c2908e28aa31"
   },
   "outputs": [
    {
     "data": {
      "text/html": [
       "<div>\n",
       "<style scoped>\n",
       "    .dataframe tbody tr th:only-of-type {\n",
       "        vertical-align: middle;\n",
       "    }\n",
       "\n",
       "    .dataframe tbody tr th {\n",
       "        vertical-align: top;\n",
       "    }\n",
       "\n",
       "    .dataframe thead th {\n",
       "        text-align: right;\n",
       "    }\n",
       "</style>\n",
       "<table border=\"1\" class=\"dataframe\">\n",
       "  <thead>\n",
       "    <tr style=\"text-align: right;\">\n",
       "      <th></th>\n",
       "      <th>image_id</th>\n",
       "      <th>filename</th>\n",
       "      <th>image</th>\n",
       "    </tr>\n",
       "  </thead>\n",
       "  <tbody>\n",
       "    <tr>\n",
       "      <th>0</th>\n",
       "      <td>7201</td>\n",
       "      <td>7201.jpg</td>\n",
       "      <td>[[[143, 147, 158], [137, 140, 152], [137, 141,...</td>\n",
       "    </tr>\n",
       "    <tr>\n",
       "      <th>1</th>\n",
       "      <td>7202</td>\n",
       "      <td>7202.jpg</td>\n",
       "      <td>[[[161, 149, 143], [153, 141, 135], [160, 148,...</td>\n",
       "    </tr>\n",
       "    <tr>\n",
       "      <th>2</th>\n",
       "      <td>7203</td>\n",
       "      <td>7203.jpg</td>\n",
       "      <td>[[[95, 107, 117], [102, 116, 126], [82, 98, 10...</td>\n",
       "    </tr>\n",
       "    <tr>\n",
       "      <th>3</th>\n",
       "      <td>7204</td>\n",
       "      <td>7204.jpg</td>\n",
       "      <td>[[[5, 3, 2], [10, 8, 7], [9, 7, 7], [10, 8, 8]...</td>\n",
       "    </tr>\n",
       "    <tr>\n",
       "      <th>4</th>\n",
       "      <td>7205</td>\n",
       "      <td>7205.jpg</td>\n",
       "      <td>[[[25, 41, 48], [26, 42, 49], [33, 49, 56], [1...</td>\n",
       "    </tr>\n",
       "  </tbody>\n",
       "</table>\n",
       "</div>"
      ],
      "text/plain": [
       "  image_id  filename                                              image\n",
       "0     7201  7201.jpg  [[[143, 147, 158], [137, 140, 152], [137, 141,...\n",
       "1     7202  7202.jpg  [[[161, 149, 143], [153, 141, 135], [160, 148,...\n",
       "2     7203  7203.jpg  [[[95, 107, 117], [102, 116, 126], [82, 98, 10...\n",
       "3     7204  7204.jpg  [[[5, 3, 2], [10, 8, 7], [9, 7, 7], [10, 8, 8]...\n",
       "4     7205  7205.jpg  [[[25, 41, 48], [26, 42, 49], [33, 49, 56], [1..."
      ]
     },
     "execution_count": 3,
     "metadata": {},
     "output_type": "execute_result"
    }
   ],
   "source": [
    "# Define img_height, img_width\n",
    "img_height=164\n",
    "img_width=164\n",
    "\n",
    "#Loading the train.csv file and created and empty dataframe\n",
    "data_test = pd.read_csv(\"E:/Data Science/Damaged Vehicle Classification/test/test.csv\")\n",
    "df_test = pd.DataFrame(columns=['image_id','filename','image'])\n",
    "\n",
    "#Sorting the images\n",
    "file_path_test = \"E:/Data Science/Damaged Vehicle Classification/test/images\"\n",
    "sorted_image_test_list = list(os.listdir(file_path_test))\n",
    "sorted_image_test_list.sort(key=lambda f: int(''.join(filter(str.isdigit, f))))\n",
    "\n",
    "#Reading the pasting the images into the created dataframe\n",
    "for i, j in zip(sorted_image_test_list,range(len(os.listdir(file_path_test)))):\n",
    "    img = cv2.imread(os.path.join(file_path_test,i))\n",
    "    img = cv2.resize(img, (img_height, img_width))\n",
    "    df_test = df_test.append({'image_id':data_test['image_id'][j],'filename':data_test['filename'][j],'image':img},ignore_index=True)\n",
    "df_test.head()"
   ]
  },
  {
   "cell_type": "code",
   "execution_count": 4,
   "id": "6a169037",
   "metadata": {
    "colab": {
     "base_uri": "https://localhost:8080/",
     "height": 251
    },
    "id": "6a169037",
    "outputId": "6d496743-10df-4b3b-8c4f-ca3f7e5a6706"
   },
   "outputs": [
    {
     "data": {
      "text/plain": [
       "<matplotlib.image.AxesImage at 0x224abb57b80>"
      ]
     },
     "execution_count": 4,
     "metadata": {},
     "output_type": "execute_result"
    },
    {
     "data": {
      "image/png": "[encoded data removed]",
      "text/plain": [
       "<Figure size 432x288 with 2 Axes>"
      ]
     },
     "metadata": {
      "needs_background": "light"
     },
     "output_type": "display_data"
    }
   ],
   "source": [
    "#Visualizing some of the images\n",
    "plt.subplot(2,2,1)\n",
    "plt.imshow(df['image'][1])\n",
    "plt.subplot(2,2,2)\n",
    "plt.imshow(df['image'][7199])"
   ]
  },
  {
   "cell_type": "code",
   "execution_count": 5,
   "id": "b7b99337",
   "metadata": {
    "colab": {
     "base_uri": "https://localhost:8080/",
     "height": 251
    },
    "id": "b7b99337",
    "outputId": "a9945a3c-d66b-4597-c38d-1971634d3105"
   },
   "outputs": [
    {
     "data": {
      "text/plain": [
       "<matplotlib.image.AxesImage at 0x224abfb4a90>"
      ]
     },
     "execution_count": 5,
     "metadata": {},
     "output_type": "execute_result"
    },
    {
     "data": {
      "image/png": "[encoded data removed]",
      "text/plain": [
       "<Figure size 432x288 with 2 Axes>"
      ]
     },
     "metadata": {
      "needs_background": "light"
     },
     "output_type": "display_data"
    }
   ],
   "source": [
    "plt.subplot(2,2,1)\n",
    "plt.imshow(df['image'][78])\n",
    "plt.subplot(2,2,2)\n",
    "plt.imshow(df['image'][935])"
   ]
  },
  {
   "cell_type": "code",
   "execution_count": 6,
   "id": "4c99dcaf",
   "metadata": {
    "colab": {
     "base_uri": "https://localhost:8080/",
     "height": 251
    },
    "id": "4c99dcaf",
    "outputId": "6800bd38-7019-4948-c1fc-515c8277a3d8"
   },
   "outputs": [
    {
     "data": {
      "text/plain": [
       "<matplotlib.image.AxesImage at 0x224ac03f4f0>"
      ]
     },
     "execution_count": 6,
     "metadata": {},
     "output_type": "execute_result"
    },
    {
     "data": {
      "image/png": "[encoded data removed]",
      "text/plain": [
       "<Figure size 432x288 with 2 Axes>"
      ]
     },
     "metadata": {
      "needs_background": "light"
     },
     "output_type": "display_data"
    }
   ],
   "source": [
    "plt.subplot(2,2,1)\n",
    "plt.imshow(df['image'][2000])\n",
    "plt.subplot(2,2,2)\n",
    "plt.imshow(df['image'][4590])"
   ]
  },
  {
   "cell_type": "code",
   "execution_count": 7,
   "id": "928fb513",
   "metadata": {
    "colab": {
     "base_uri": "https://localhost:8080/",
     "height": 792
    },
    "id": "928fb513",
    "outputId": "dda02e38-f383-4d28-84bf-b3195df9500c"
   },
   "outputs": [
    {
     "name": "stdout",
     "output_type": "stream",
     "text": [
      "2    2349\n",
      "4    2079\n",
      "5    1185\n",
      "6     882\n",
      "3     534\n",
      "1     171\n",
      "Name: label, dtype: int64\n"
     ]
    },
    {
     "data": {
      "text/plain": [
       "<AxesSubplot:ylabel='label'>"
      ]
     },
     "execution_count": 7,
     "metadata": {},
     "output_type": "execute_result"
    },
    {
     "data": {
      "image/png": "[encoded data removed]",
      "text/plain": [
       "<Figure size 1440x576 with 1 Axes>"
      ]
     },
     "metadata": {},
     "output_type": "display_data"
    }
   ],
   "source": [
    "#Checking the distribution of target variable\n",
    "print(df['label'].value_counts())\n",
    "plt.figure(figsize=(20,8))\n",
    "df['label'].value_counts().plot(kind='pie',autopct='%.2f%%')"
   ]
  },
  {
   "cell_type": "markdown",
   "id": "0def3466",
   "metadata": {
    "id": "0def3466"
   },
   "source": [
    "The dataset is unbalanced as only 2.37% and 7.42% of the images are of class 1 and 3."
   ]
  },
  {
   "cell_type": "code",
   "execution_count": 4,
   "id": "43b2df6f",
   "metadata": {
    "colab": {
     "base_uri": "https://localhost:8080/"
    },
    "id": "43b2df6f",
    "outputId": "6f42a620-9117-462c-ca59-88ababc3b1fe"
   },
   "outputs": [
    {
     "name": "stdout",
     "output_type": "stream",
     "text": [
      "(7200,)\n"
     ]
    }
   ],
   "source": [
    "# Creating X_train and y_train\n",
    "\n",
    "x = df['image']\n",
    "\n",
    "print(x.shape)"
   ]
  },
  {
   "cell_type": "code",
   "execution_count": 5,
   "id": "2738d997",
   "metadata": {
    "colab": {
     "base_uri": "https://localhost:8080/"
    },
    "id": "2738d997",
    "outputId": "3b3beb39-4472-46b2-fe00-eb2cb8e53eea"
   },
   "outputs": [
    {
     "data": {
      "text/plain": [
       "(7200, 164, 164, 3)"
      ]
     },
     "execution_count": 5,
     "metadata": {},
     "output_type": "execute_result"
    }
   ],
   "source": [
    "# Reshaping x suitable for the model\n",
    "\n",
    "x_train = []\n",
    "\n",
    "for i, j in enumerate(x):\n",
    "    x_train.append(j)\n",
    "\n",
    "x_train= np.array(x_train, np.float32) / 255. # Converting the train data to an array and then normalizing it\n",
    "x_train.shape"
   ]
  },
  {
   "cell_type": "code",
   "execution_count": 6,
   "id": "947e90dd",
   "metadata": {
    "colab": {
     "base_uri": "https://localhost:8080/"
    },
    "id": "947e90dd",
    "outputId": "4d80a643-e0e4-4dc5-bdbc-40b03a011a49"
   },
   "outputs": [
    {
     "data": {
      "text/plain": [
       "(7200, 6)"
      ]
     },
     "execution_count": 6,
     "metadata": {},
     "output_type": "execute_result"
    }
   ],
   "source": [
    "# Converting encoded 'breed' feature to categorical columns\n",
    "\n",
    "y = df['label']\n",
    "\n",
    "#y_train = tf.keras.utils.to_categorical(y, num_classes=None, dtype='int')\n",
    "y_train = np.array(pd.get_dummies(y))\n",
    "y_train.shape"
   ]
  },
  {
   "cell_type": "code",
   "execution_count": 11,
   "id": "f35d6e5c",
   "metadata": {
    "id": "f35d6e5c",
    "outputId": "6c00849c-8269-425f-dbf0-ac44de1ab09e"
   },
   "outputs": [
    {
     "data": {
      "text/plain": [
       "(4800, 164, 164, 3)"
      ]
     },
     "execution_count": 11,
     "metadata": {},
     "output_type": "execute_result"
    }
   ],
   "source": [
    "# Reshaping x_test suitable for the model\n",
    "\n",
    "x_test_data = df_test['image']\n",
    "x_test = []\n",
    "\n",
    "for i, j in enumerate(x_test_data):\n",
    "    x_test.append(j)\n",
    "\n",
    "x_test= np.array(x_test, np.float32) / 255. # Converting the train data to an array and then normalizing it\n",
    "x_test.shape"
   ]
  },
  {
   "cell_type": "markdown",
   "id": "7e747fbe",
   "metadata": {
    "id": "7e747fbe"
   },
   "source": [
    "### Model Building and Training"
   ]
  },
  {
   "cell_type": "markdown",
   "id": "1961d5a3",
   "metadata": {
    "id": "1961d5a3"
   },
   "source": [
    "### Model1"
   ]
  },
  {
   "cell_type": "code",
   "execution_count": 7,
   "id": "67a5e3d9",
   "metadata": {
    "id": "67a5e3d9"
   },
   "outputs": [],
   "source": [
    "from tensorflow.keras import backend\n",
    "backend.clear_session()\n",
    "#Fixing the seed for random number generators so that we can ensure we receive the same output everytime\n",
    "np.random.seed(47)\n",
    "import random\n",
    "random.seed(47)\n",
    "tf.random.set_seed(47)"
   ]
  },
  {
   "cell_type": "code",
   "execution_count": 9,
   "id": "S1LLjnosmFn4",
   "metadata": {
    "colab": {
     "base_uri": "https://localhost:8080/"
    },
    "id": "S1LLjnosmFn4",
    "outputId": "e5edcb81-fd0b-4bd1-d3fa-73c4e0691341"
   },
   "outputs": [
    {
     "name": "stdout",
     "output_type": "stream",
     "text": [
      "WARNING:tensorflow:`input_shape` is undefined or non-square, or `rows` is not in [128, 160, 192, 224]. Weights for input shape (224, 224) will be loaded as the default.\n",
      "Model: \"model_1\"\n",
      "_________________________________________________________________\n",
      "Layer (type)                 Output Shape              Param #   \n",
      "=================================================================\n",
      "input_2 (InputLayer)         [(None, 164, 164, 3)]     0         \n",
      "_________________________________________________________________\n",
      "conv1_pad (ZeroPadding2D)    (None, 165, 165, 3)       0         \n",
      "_________________________________________________________________\n",
      "conv1 (Conv2D)               (None, 82, 82, 32)        864       \n",
      "_________________________________________________________________\n",
      "conv1_bn (BatchNormalization (None, 82, 82, 32)        128       \n",
      "_________________________________________________________________\n",
      "conv1_relu (ReLU)            (None, 82, 82, 32)        0         \n",
      "_________________________________________________________________\n",
      "conv_dw_1 (DepthwiseConv2D)  (None, 82, 82, 32)        288       \n",
      "_________________________________________________________________\n",
      "conv_dw_1_bn (BatchNormaliza (None, 82, 82, 32)        128       \n",
      "_________________________________________________________________\n",
      "conv_dw_1_relu (ReLU)        (None, 82, 82, 32)        0         \n",
      "_________________________________________________________________\n",
      "conv_pw_1 (Conv2D)           (None, 82, 82, 64)        2048      \n",
      "_________________________________________________________________\n",
      "conv_pw_1_bn (BatchNormaliza (None, 82, 82, 64)        256       \n",
      "_________________________________________________________________\n",
      "conv_pw_1_relu (ReLU)        (None, 82, 82, 64)        0         \n",
      "_________________________________________________________________\n",
      "conv_pad_2 (ZeroPadding2D)   (None, 83, 83, 64)        0         \n",
      "_________________________________________________________________\n",
      "conv_dw_2 (DepthwiseConv2D)  (None, 41, 41, 64)        576       \n",
      "_________________________________________________________________\n",
      "conv_dw_2_bn (BatchNormaliza (None, 41, 41, 64)        256       \n",
      "_________________________________________________________________\n",
      "conv_dw_2_relu (ReLU)        (None, 41, 41, 64)        0         \n",
      "_________________________________________________________________\n",
      "conv_pw_2 (Conv2D)           (None, 41, 41, 128)       8192      \n",
      "_________________________________________________________________\n",
      "conv_pw_2_bn (BatchNormaliza (None, 41, 41, 128)       512       \n",
      "_________________________________________________________________\n",
      "conv_pw_2_relu (ReLU)        (None, 41, 41, 128)       0         \n",
      "_________________________________________________________________\n",
      "conv_dw_3 (DepthwiseConv2D)  (None, 41, 41, 128)       1152      \n",
      "_________________________________________________________________\n",
      "conv_dw_3_bn (BatchNormaliza (None, 41, 41, 128)       512       \n",
      "_________________________________________________________________\n",
      "conv_dw_3_relu (ReLU)        (None, 41, 41, 128)       0         \n",
      "_________________________________________________________________\n",
      "conv_pw_3 (Conv2D)           (None, 41, 41, 128)       16384     \n",
      "_________________________________________________________________\n",
      "conv_pw_3_bn (BatchNormaliza (None, 41, 41, 128)       512       \n",
      "_________________________________________________________________\n",
      "conv_pw_3_relu (ReLU)        (None, 41, 41, 128)       0         \n",
      "_________________________________________________________________\n",
      "conv_pad_4 (ZeroPadding2D)   (None, 42, 42, 128)       0         \n",
      "_________________________________________________________________\n",
      "conv_dw_4 (DepthwiseConv2D)  (None, 20, 20, 128)       1152      \n",
      "_________________________________________________________________\n",
      "conv_dw_4_bn (BatchNormaliza (None, 20, 20, 128)       512       \n",
      "_________________________________________________________________\n",
      "conv_dw_4_relu (ReLU)        (None, 20, 20, 128)       0         \n",
      "_________________________________________________________________\n",
      "conv_pw_4 (Conv2D)           (None, 20, 20, 256)       32768     \n",
      "_________________________________________________________________\n",
      "conv_pw_4_bn (BatchNormaliza (None, 20, 20, 256)       1024      \n",
      "_________________________________________________________________\n",
      "conv_pw_4_relu (ReLU)        (None, 20, 20, 256)       0         \n",
      "_________________________________________________________________\n",
      "conv_dw_5 (DepthwiseConv2D)  (None, 20, 20, 256)       2304      \n",
      "_________________________________________________________________\n",
      "conv_dw_5_bn (BatchNormaliza (None, 20, 20, 256)       1024      \n",
      "_________________________________________________________________\n",
      "conv_dw_5_relu (ReLU)        (None, 20, 20, 256)       0         \n",
      "_________________________________________________________________\n",
      "conv_pw_5 (Conv2D)           (None, 20, 20, 256)       65536     \n",
      "_________________________________________________________________\n",
      "conv_pw_5_bn (BatchNormaliza (None, 20, 20, 256)       1024      \n",
      "_________________________________________________________________\n",
      "conv_pw_5_relu (ReLU)        (None, 20, 20, 256)       0         \n",
      "_________________________________________________________________\n",
      "conv_pad_6 (ZeroPadding2D)   (None, 21, 21, 256)       0         \n",
      "_________________________________________________________________\n",
      "conv_dw_6 (DepthwiseConv2D)  (None, 10, 10, 256)       2304      \n",
      "_________________________________________________________________\n",
      "conv_dw_6_bn (BatchNormaliza (None, 10, 10, 256)       1024      \n",
      "_________________________________________________________________\n",
      "conv_dw_6_relu (ReLU)        (None, 10, 10, 256)       0         \n",
      "_________________________________________________________________\n",
      "conv_pw_6 (Conv2D)           (None, 10, 10, 512)       131072    \n",
      "_________________________________________________________________\n",
      "conv_pw_6_bn (BatchNormaliza (None, 10, 10, 512)       2048      \n",
      "_________________________________________________________________\n",
      "conv_pw_6_relu (ReLU)        (None, 10, 10, 512)       0         \n",
      "_________________________________________________________________\n",
      "conv_dw_7 (DepthwiseConv2D)  (None, 10, 10, 512)       4608      \n",
      "_________________________________________________________________\n",
      "conv_dw_7_bn (BatchNormaliza (None, 10, 10, 512)       2048      \n",
      "_________________________________________________________________\n",
      "conv_dw_7_relu (ReLU)        (None, 10, 10, 512)       0         \n",
      "_________________________________________________________________\n",
      "conv_pw_7 (Conv2D)           (None, 10, 10, 512)       262144    \n",
      "_________________________________________________________________\n",
      "conv_pw_7_bn (BatchNormaliza (None, 10, 10, 512)       2048      \n",
      "_________________________________________________________________\n",
      "conv_pw_7_relu (ReLU)        (None, 10, 10, 512)       0         \n",
      "_________________________________________________________________\n",
      "conv_dw_8 (DepthwiseConv2D)  (None, 10, 10, 512)       4608      \n",
      "_________________________________________________________________\n",
      "conv_dw_8_bn (BatchNormaliza (None, 10, 10, 512)       2048      \n",
      "_________________________________________________________________\n",
      "conv_dw_8_relu (ReLU)        (None, 10, 10, 512)       0         \n",
      "_________________________________________________________________\n",
      "conv_pw_8 (Conv2D)           (None, 10, 10, 512)       262144    \n",
      "_________________________________________________________________\n",
      "conv_pw_8_bn (BatchNormaliza (None, 10, 10, 512)       2048      \n",
      "_________________________________________________________________\n",
      "conv_pw_8_relu (ReLU)        (None, 10, 10, 512)       0         \n",
      "_________________________________________________________________\n",
      "conv_dw_9 (DepthwiseConv2D)  (None, 10, 10, 512)       4608      \n",
      "_________________________________________________________________\n",
      "conv_dw_9_bn (BatchNormaliza (None, 10, 10, 512)       2048      \n",
      "_________________________________________________________________\n",
      "conv_dw_9_relu (ReLU)        (None, 10, 10, 512)       0         \n",
      "_________________________________________________________________\n",
      "conv_pw_9 (Conv2D)           (None, 10, 10, 512)       262144    \n",
      "_________________________________________________________________\n",
      "conv_pw_9_bn (BatchNormaliza (None, 10, 10, 512)       2048      \n",
      "_________________________________________________________________\n",
      "conv_pw_9_relu (ReLU)        (None, 10, 10, 512)       0         \n",
      "_________________________________________________________________\n",
      "conv_dw_10 (DepthwiseConv2D) (None, 10, 10, 512)       4608      \n",
      "_________________________________________________________________\n",
      "conv_dw_10_bn (BatchNormaliz (None, 10, 10, 512)       2048      \n",
      "_________________________________________________________________\n",
      "conv_dw_10_relu (ReLU)       (None, 10, 10, 512)       0         \n",
      "_________________________________________________________________\n",
      "conv_pw_10 (Conv2D)          (None, 10, 10, 512)       262144    \n",
      "_________________________________________________________________\n",
      "conv_pw_10_bn (BatchNormaliz (None, 10, 10, 512)       2048      \n",
      "_________________________________________________________________\n",
      "conv_pw_10_relu (ReLU)       (None, 10, 10, 512)       0         \n",
      "_________________________________________________________________\n",
      "conv_dw_11 (DepthwiseConv2D) (None, 10, 10, 512)       4608      \n",
      "_________________________________________________________________\n",
      "conv_dw_11_bn (BatchNormaliz (None, 10, 10, 512)       2048      \n",
      "_________________________________________________________________\n",
      "conv_dw_11_relu (ReLU)       (None, 10, 10, 512)       0         \n",
      "_________________________________________________________________\n",
      "conv_pw_11 (Conv2D)          (None, 10, 10, 512)       262144    \n",
      "_________________________________________________________________\n",
      "conv_pw_11_bn (BatchNormaliz (None, 10, 10, 512)       2048      \n",
      "_________________________________________________________________\n",
      "conv_pw_11_relu (ReLU)       (None, 10, 10, 512)       0         \n",
      "_________________________________________________________________\n",
      "conv_pad_12 (ZeroPadding2D)  (None, 11, 11, 512)       0         \n",
      "_________________________________________________________________\n",
      "conv_dw_12 (DepthwiseConv2D) (None, 5, 5, 512)         4608      \n",
      "_________________________________________________________________\n",
      "conv_dw_12_bn (BatchNormaliz (None, 5, 5, 512)         2048      \n",
      "_________________________________________________________________\n",
      "conv_dw_12_relu (ReLU)       (None, 5, 5, 512)         0         \n",
      "_________________________________________________________________\n",
      "conv_pw_12 (Conv2D)          (None, 5, 5, 1024)        524288    \n",
      "_________________________________________________________________\n",
      "conv_pw_12_bn (BatchNormaliz (None, 5, 5, 1024)        4096      \n",
      "_________________________________________________________________\n",
      "conv_pw_12_relu (ReLU)       (None, 5, 5, 1024)        0         \n",
      "_________________________________________________________________\n",
      "conv_dw_13 (DepthwiseConv2D) (None, 5, 5, 1024)        9216      \n",
      "_________________________________________________________________\n",
      "conv_dw_13_bn (BatchNormaliz (None, 5, 5, 1024)        4096      \n",
      "_________________________________________________________________\n",
      "conv_dw_13_relu (ReLU)       (None, 5, 5, 1024)        0         \n",
      "_________________________________________________________________\n",
      "conv_pw_13 (Conv2D)          (None, 5, 5, 1024)        1048576   \n",
      "_________________________________________________________________\n",
      "conv_pw_13_bn (BatchNormaliz (None, 5, 5, 1024)        4096      \n",
      "_________________________________________________________________\n",
      "conv_pw_13_relu (ReLU)       (None, 5, 5, 1024)        0         \n",
      "_________________________________________________________________\n",
      "global_average_pooling2d_1 ( (None, 1024)              0         \n",
      "_________________________________________________________________\n",
      "dense_2 (Dense)              (None, 512)               524800    \n",
      "_________________________________________________________________\n",
      "dense_3 (Dense)              (None, 6)                 3078      \n",
      "=================================================================\n",
      "Total params: 3,756,742\n",
      "Trainable params: 3,734,854\n",
      "Non-trainable params: 21,888\n",
      "_________________________________________________________________\n"
     ]
    }
   ],
   "source": [
    "from tensorflow.keras.applications import MobileNet\n",
    "from tensorflow.keras.layers import Dense, GlobalAveragePooling2D, Dropout\n",
    "from tensorflow.keras.models import Model\n",
    "\n",
    "base_model = MobileNet(input_shape=x_train[0].shape,\n",
    "                       weights='imagenet',\n",
    "                       include_top=False) #imports the mobilenet model and discards the last 1000 neuron layer.\n",
    "\n",
    "x = base_model.output\n",
    "x = GlobalAveragePooling2D()(x) # Optional\n",
    "x = Dense(512,activation='relu')(x) #we add dense layers so that the model can learn more complex functions and classify for better results.\n",
    "preds = Dense(6,activation='softmax')(x) #final layer with softmax activation\n",
    "\n",
    "model_mobilenet = Model(inputs=base_model.input,\n",
    "                        outputs=preds)\n",
    "\n",
    "# set the first 20 layers of the network to be non-trainable\n",
    "#for layer in model_mobilenet.layers[:10]:\n",
    "#    layer.trainable=False\n",
    "for layer in model_mobilenet.layers:\n",
    "    layer.trainable=True\n",
    "\n",
    "# Compile the model\n",
    "model_mobilenet.compile(optimizer='Adam',\n",
    "                      loss='categorical_crossentropy',\n",
    "                      metrics=['accuracy'])\n",
    "\n",
    "model_mobilenet.summary()\n"
   ]
  },
  {
   "cell_type": "code",
   "execution_count": 10,
   "id": "lb06k7bwnaNr",
   "metadata": {
    "id": "lb06k7bwnaNr"
   },
   "outputs": [],
   "source": [
    "model_mobilenet.compile(optimizer=tf.keras.optimizers.Adam(), loss='categorical_crossentropy', metrics=['accuracy'])"
   ]
  },
  {
   "cell_type": "code",
   "execution_count": 11,
   "id": "1828f25f",
   "metadata": {
    "id": "1828f25f"
   },
   "outputs": [],
   "source": [
    "from tensorflow.keras.callbacks import ModelCheckpoint, EarlyStopping, ReduceLROnPlateau\n",
    "\n",
    "checkpoint = ModelCheckpoint(\"model-{val_loss:.2f}.h5\", monitor=\"val_loss\", verbose=1,mode='min', save_best_only=True, save_weights_only=True)\n",
    "\n",
    "stop = EarlyStopping(monitor=\"val_loss\", patience=22, mode='min')\n",
    "\n",
    "reduce_lr = ReduceLROnPlateau(monitor=\"val_loss\", factor=0.2, patience=6, min_lr=1e-6, verbose=1, mode='min')"
   ]
  },
  {
   "cell_type": "code",
   "execution_count": null,
   "id": "3f57a7d0",
   "metadata": {
    "colab": {
     "base_uri": "https://localhost:8080/"
    },
    "id": "3f57a7d0",
    "outputId": "fbfc7c3b-7c7f-4fb7-957d-d2712bacbffb"
   },
   "outputs": [],
   "source": [
    "history1 = model_mobilenet.fit(x=x_train[:2000],\n",
    "                                  y=y_train[:2000],\n",
    "                                  batch_size=5,\n",
    "                                  epochs=2,\n",
    "                                  validation_split=0.2,verbose=1, callbacks=[checkpoint,stop, reduce_lr])"
   ]
  },
  {
   "cell_type": "code",
   "execution_count": null,
   "id": "a67f20f5",
   "metadata": {
    "colab": {
     "base_uri": "https://localhost:8080/",
     "height": 904
    },
    "id": "a67f20f5",
    "outputId": "f8403db1-996e-4f3e-d9c4-dc0f9116c610"
   },
   "outputs": [],
   "source": [
    "## Accuracy and Loss plots\n",
    "\n",
    "accuracy = history1.history['accuracy']\n",
    "val_accuracy = history1.history['val_accuracy']\n",
    "loss = history1.history['loss']\n",
    "val_loss = history1.history['val_loss']\n",
    "\n",
    "epochs   = range(len(accuracy)) # Get number of epochs\n",
    "\n",
    "plt.plot  (epochs, accuracy, label = 'training accuracy')\n",
    "plt.plot  (epochs, val_accuracy, label = 'validation accuracy')\n",
    "plt.title ('Training and validation accuracy')\n",
    "plt.legend(loc = 'lower right')\n",
    "plt.figure()\n",
    "\n",
    "plt.plot  (epochs, loss, label = 'training loss')\n",
    "plt.plot  (epochs, val_loss, label = 'validation loss')\n",
    "plt.legend(loc = 'upper right')\n",
    "plt.title ('Training and validation loss')"
   ]
  },
  {
   "cell_type": "code",
   "execution_count": 14,
   "id": "10600531",
   "metadata": {
    "id": "10600531"
   },
   "outputs": [],
   "source": [
    "#Saving the model\n",
    "model_mobilenet.save('/content/drive/My Drive/mobilenetmodel_v2.h5')"
   ]
  },
  {
   "cell_type": "code",
   "execution_count": 14,
   "id": "b4782f23",
   "metadata": {
    "id": "b4782f23"
   },
   "outputs": [],
   "source": [
    "#Loading the model\n",
    "mod = tf.keras.models.load_model('mobilenetmodel_v2 (1).h5')"
   ]
  },
  {
   "cell_type": "code",
   "execution_count": 27,
   "id": "e818e73a",
   "metadata": {
    "colab": {
     "base_uri": "https://localhost:8080/",
     "height": 227
    },
    "id": "e818e73a",
    "outputId": "f9e4beed-3b06-4140-c0d1-0eece50b2e9a"
   },
   "outputs": [
    {
     "name": "stdout",
     "output_type": "stream",
     "text": [
      "225/225 [==============================] - 131s 578ms/step\n"
     ]
    },
    {
     "data": {
      "text/plain": [
       "array([1, 3, 1, ..., 3, 1, 1], dtype=int64)"
      ]
     },
     "execution_count": 27,
     "metadata": {},
     "output_type": "execute_result"
    }
   ],
   "source": [
    "#Prediction for train data\n",
    "y_train_prob = mod.predict(x_train)\n",
    "y_train_pred=np.argmax(y_train_prob,axis=1)\n",
    "y_train_pred"
   ]
  },
  {
   "cell_type": "code",
   "execution_count": 31,
   "id": "4461626e",
   "metadata": {
    "id": "4461626e",
    "outputId": "de7aa286-4ebf-47ef-b32d-6358d786c84b"
   },
   "outputs": [
    {
     "name": "stdout",
     "output_type": "stream",
     "text": [
      "              precision    recall  f1-score   support\n",
      "\n",
      "           0       1.00      0.96      0.98       171\n",
      "           1       0.99      0.99      0.99      2349\n",
      "           2       1.00      0.99      1.00       534\n",
      "           3       0.99      0.99      0.99      2079\n",
      "           4       1.00      1.00      1.00      1185\n",
      "           5       0.98      0.99      0.99       882\n",
      "\n",
      "    accuracy                           0.99      7200\n",
      "   macro avg       0.99      0.99      0.99      7200\n",
      "weighted avg       0.99      0.99      0.99      7200\n",
      "\n"
     ]
    }
   ],
   "source": [
    "#Printing the classification report for train data\n",
    "from sklearn.metrics import classification_report\n",
    "\n",
    "print(classification_report(y_train,y_train_pred))"
   ]
  },
  {
   "cell_type": "code",
   "execution_count": 15,
   "id": "2d079226",
   "metadata": {
    "id": "2d079226",
    "outputId": "bb14c8a0-75c2-4176-c0b3-c7fcb55ae3ab"
   },
   "outputs": [
    {
     "name": "stdout",
     "output_type": "stream",
     "text": [
      "150/150 [==============================] - 50s 320ms/step\n"
     ]
    },
    {
     "data": {
      "text/plain": [
       "array([6, 6, 2, ..., 2, 2, 4], dtype=int64)"
      ]
     },
     "execution_count": 15,
     "metadata": {},
     "output_type": "execute_result"
    }
   ],
   "source": [
    "#Prediction for test data\n",
    "y_test_prob = mod.predict(x_test)\n",
    "y_test_pred = np.argmax(y_test_prob,axis=1) + 1\n",
    "y_test_pred"
   ]
  },
  {
   "cell_type": "code",
   "execution_count": 16,
   "id": "b88cf268",
   "metadata": {
    "id": "b88cf268"
   },
   "outputs": [],
   "source": [
    "df_test['label'] = y_test_pred"
   ]
  },
  {
   "cell_type": "code",
   "execution_count": 17,
   "id": "d39355a6",
   "metadata": {
    "id": "d39355a6",
    "outputId": "0c6b28fe-abed-4ea6-8fb9-0439c0068a42"
   },
   "outputs": [
    {
     "data": {
      "text/html": [
       "<div>\n",
       "<style scoped>\n",
       "    .dataframe tbody tr th:only-of-type {\n",
       "        vertical-align: middle;\n",
       "    }\n",
       "\n",
       "    .dataframe tbody tr th {\n",
       "        vertical-align: top;\n",
       "    }\n",
       "\n",
       "    .dataframe thead th {\n",
       "        text-align: right;\n",
       "    }\n",
       "</style>\n",
       "<table border=\"1\" class=\"dataframe\">\n",
       "  <thead>\n",
       "    <tr style=\"text-align: right;\">\n",
       "      <th></th>\n",
       "      <th>image_id</th>\n",
       "      <th>filename</th>\n",
       "      <th>image</th>\n",
       "      <th>label</th>\n",
       "    </tr>\n",
       "  </thead>\n",
       "  <tbody>\n",
       "    <tr>\n",
       "      <th>0</th>\n",
       "      <td>7201</td>\n",
       "      <td>7201.jpg</td>\n",
       "      <td>[[[143, 147, 158], [137, 140, 152], [137, 141,...</td>\n",
       "      <td>6</td>\n",
       "    </tr>\n",
       "    <tr>\n",
       "      <th>1</th>\n",
       "      <td>7202</td>\n",
       "      <td>7202.jpg</td>\n",
       "      <td>[[[161, 149, 143], [153, 141, 135], [160, 148,...</td>\n",
       "      <td>6</td>\n",
       "    </tr>\n",
       "    <tr>\n",
       "      <th>2</th>\n",
       "      <td>7203</td>\n",
       "      <td>7203.jpg</td>\n",
       "      <td>[[[95, 107, 117], [102, 116, 126], [82, 98, 10...</td>\n",
       "      <td>2</td>\n",
       "    </tr>\n",
       "    <tr>\n",
       "      <th>3</th>\n",
       "      <td>7204</td>\n",
       "      <td>7204.jpg</td>\n",
       "      <td>[[[5, 3, 2], [10, 8, 7], [9, 7, 7], [10, 8, 8]...</td>\n",
       "      <td>5</td>\n",
       "    </tr>\n",
       "    <tr>\n",
       "      <th>4</th>\n",
       "      <td>7205</td>\n",
       "      <td>7205.jpg</td>\n",
       "      <td>[[[25, 41, 48], [26, 42, 49], [33, 49, 56], [1...</td>\n",
       "      <td>4</td>\n",
       "    </tr>\n",
       "    <tr>\n",
       "      <th>...</th>\n",
       "      <td>...</td>\n",
       "      <td>...</td>\n",
       "      <td>...</td>\n",
       "      <td>...</td>\n",
       "    </tr>\n",
       "    <tr>\n",
       "      <th>4795</th>\n",
       "      <td>11996</td>\n",
       "      <td>11996.jpg</td>\n",
       "      <td>[[[125, 125, 125], [138, 138, 138], [160, 160,...</td>\n",
       "      <td>6</td>\n",
       "    </tr>\n",
       "    <tr>\n",
       "      <th>4796</th>\n",
       "      <td>11997</td>\n",
       "      <td>11997.jpg</td>\n",
       "      <td>[[[101, 104, 109], [239, 240, 242], [247, 247,...</td>\n",
       "      <td>6</td>\n",
       "    </tr>\n",
       "    <tr>\n",
       "      <th>4797</th>\n",
       "      <td>11998</td>\n",
       "      <td>11998.jpg</td>\n",
       "      <td>[[[233, 234, 233], [249, 248, 252], [245, 241,...</td>\n",
       "      <td>2</td>\n",
       "    </tr>\n",
       "    <tr>\n",
       "      <th>4798</th>\n",
       "      <td>11999</td>\n",
       "      <td>11999.jpg</td>\n",
       "      <td>[[[12, 8, 7], [12, 8, 7], [17, 13, 12], [12, 8...</td>\n",
       "      <td>2</td>\n",
       "    </tr>\n",
       "    <tr>\n",
       "      <th>4799</th>\n",
       "      <td>12000</td>\n",
       "      <td>12000.jpg</td>\n",
       "      <td>[[[200, 208, 200], [58, 80, 75], [47, 72, 74],...</td>\n",
       "      <td>4</td>\n",
       "    </tr>\n",
       "  </tbody>\n",
       "</table>\n",
       "<p>4800 rows × 4 columns</p>\n",
       "</div>"
      ],
      "text/plain": [
       "     image_id   filename                                              image  \\\n",
       "0        7201   7201.jpg  [[[143, 147, 158], [137, 140, 152], [137, 141,...   \n",
       "1        7202   7202.jpg  [[[161, 149, 143], [153, 141, 135], [160, 148,...   \n",
       "2        7203   7203.jpg  [[[95, 107, 117], [102, 116, 126], [82, 98, 10...   \n",
       "3        7204   7204.jpg  [[[5, 3, 2], [10, 8, 7], [9, 7, 7], [10, 8, 8]...   \n",
       "4        7205   7205.jpg  [[[25, 41, 48], [26, 42, 49], [33, 49, 56], [1...   \n",
       "...       ...        ...                                                ...   \n",
       "4795    11996  11996.jpg  [[[125, 125, 125], [138, 138, 138], [160, 160,...   \n",
       "4796    11997  11997.jpg  [[[101, 104, 109], [239, 240, 242], [247, 247,...   \n",
       "4797    11998  11998.jpg  [[[233, 234, 233], [249, 248, 252], [245, 241,...   \n",
       "4798    11999  11999.jpg  [[[12, 8, 7], [12, 8, 7], [17, 13, 12], [12, 8...   \n",
       "4799    12000  12000.jpg  [[[200, 208, 200], [58, 80, 75], [47, 72, 74],...   \n",
       "\n",
       "      label  \n",
       "0         6  \n",
       "1         6  \n",
       "2         2  \n",
       "3         5  \n",
       "4         4  \n",
       "...     ...  \n",
       "4795      6  \n",
       "4796      6  \n",
       "4797      2  \n",
       "4798      2  \n",
       "4799      4  \n",
       "\n",
       "[4800 rows x 4 columns]"
      ]
     },
     "execution_count": 17,
     "metadata": {},
     "output_type": "execute_result"
    }
   ],
   "source": [
    "df_test"
   ]
  },
  {
   "cell_type": "code",
   "execution_count": 18,
   "id": "af6b96c2",
   "metadata": {
    "id": "af6b96c2"
   },
   "outputs": [],
   "source": [
    "submission_df = df_test.loc[:,['image_id','label']]"
   ]
  },
  {
   "cell_type": "code",
   "execution_count": 21,
   "id": "a7069f6a",
   "metadata": {
    "id": "a7069f6a"
   },
   "outputs": [],
   "source": [
    "submission_df.to_csv('sample_submission.csv',index=False)"
   ]
  },
  {
   "cell_type": "code",
   "execution_count": null,
   "id": "be906be9",
   "metadata": {
    "id": "be906be9"
   },
   "outputs": [],
   "source": []
  },
  {
   "cell_type": "code",
   "execution_count": null,
   "id": "f6e010a1",
   "metadata": {
    "id": "f6e010a1"
   },
   "outputs": [],
   "source": []
  },
  {
   "cell_type": "code",
   "execution_count": null,
   "id": "e93e946c",
   "metadata": {
    "id": "e93e946c"
   },
   "outputs": [],
   "source": []
  },
  {
   "cell_type": "code",
   "execution_count": null,
   "id": "4d198da5",
   "metadata": {
    "id": "4d198da5"
   },
   "outputs": [],
   "source": []
  },
  {
   "cell_type": "code",
   "execution_count": null,
   "id": "492e3890",
   "metadata": {
    "id": "492e3890"
   },
   "outputs": [],
   "source": []
  },
  {
   "cell_type": "code",
   "execution_count": null,
   "id": "8e1d35a8",
   "metadata": {
    "id": "8e1d35a8"
   },
   "outputs": [],
   "source": []
  }
 ],
 "metadata": {
  "accelerator": "GPU",
  "colab": {
   "provenance": []
  },
  "kernelspec": {
   "display_name": "Python 3 (ipykernel)",
   "language": "python",
   "name": "python3"
  },
  "language_info": {
   "codemirror_mode": {
    "name": "ipython",
    "version": 3
   },
   "file_extension": ".py",
   "mimetype": "text/x-python",
   "name": "python",
   "nbconvert_exporter": "python",
   "pygments_lexer": "ipython3",
   "version": "3.8.18"
  }
 },
 "nbformat": 4,
 "nbformat_minor": 5
}
